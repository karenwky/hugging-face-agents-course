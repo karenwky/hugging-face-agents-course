{
 "cells": [
  {
   "cell_type": "markdown",
   "id": "da1f0485",
   "metadata": {},
   "source": [
    "This is a follow-along notebook of [Building Agentic RAG Systems](https://colab.research.google.com/github/huggingface/agents-course/blob/main/notebooks/unit2/smolagents/retrieval_agents.ipynb) from <a href=\"https://huggingface.co/learn/agents-course/unit2/smolagents/retrieval_agents\">Hugging Face Agents Course</a>, with additional trials. "
   ]
  },
  {
   "cell_type": "markdown",
   "id": "c002de2b",
   "metadata": {},
   "source": [
    "# Building Agentic RAG Systems"
   ]
  },
  {
   "cell_type": "markdown",
   "id": "ffde75de",
   "metadata": {},
   "source": [
    "## Basic Retrieval with DuckDuckGo\n",
    "Let's build a simple agent that can search the web using DuckDuckGo. This agent will retrieve information and synthesize responses to answer queries. "
   ]
  },
  {
   "cell_type": "code",
   "execution_count": null,
   "id": "2e56f8b2",
   "metadata": {},
   "outputs": [
    {
     "data": {
      "text/html": [
       "<pre style=\"white-space:pre;overflow-x:auto;line-height:normal;font-family:Menlo,'DejaVu Sans Mono',consolas,'Courier New',monospace\"><span style=\"color: #d4b702; text-decoration-color: #d4b702\">╭──────────────────────────────────────────────────── </span><span style=\"color: #d4b702; text-decoration-color: #d4b702; font-weight: bold\">New run</span><span style=\"color: #d4b702; text-decoration-color: #d4b702\"> ────────────────────────────────────────────────────╮</span>\n",
       "<span style=\"color: #d4b702; text-decoration-color: #d4b702\">│</span>                                                                                                                 <span style=\"color: #d4b702; text-decoration-color: #d4b702\">│</span>\n",
       "<span style=\"color: #d4b702; text-decoration-color: #d4b702\">│</span> <span style=\"font-weight: bold\">Search vapourvaporwave-themed party ideas, including color style, decorations, entertainment, and catering.</span>     <span style=\"color: #d4b702; text-decoration-color: #d4b702\">│</span>\n",
       "<span style=\"color: #d4b702; text-decoration-color: #d4b702\">│</span>                                                                                                                 <span style=\"color: #d4b702; text-decoration-color: #d4b702\">│</span>\n",
       "<span style=\"color: #d4b702; text-decoration-color: #d4b702\">╰─ LiteLLMModel - ollama_chat/qwen3:8b ───────────────────────────────────────────────────────────────────────────╯</span>\n",
       "</pre>\n"
      ],
      "text/plain": [
       "\u001b[38;2;212;183;2m╭─\u001b[0m\u001b[38;2;212;183;2m───────────────────────────────────────────────────\u001b[0m\u001b[38;2;212;183;2m \u001b[0m\u001b[1;38;2;212;183;2mNew run\u001b[0m\u001b[38;2;212;183;2m \u001b[0m\u001b[38;2;212;183;2m───────────────────────────────────────────────────\u001b[0m\u001b[38;2;212;183;2m─╮\u001b[0m\n",
       "\u001b[38;2;212;183;2m│\u001b[0m                                                                                                                 \u001b[38;2;212;183;2m│\u001b[0m\n",
       "\u001b[38;2;212;183;2m│\u001b[0m \u001b[1mSearch vapourvaporwave-themed party ideas, including color style, decorations, entertainment, and catering.\u001b[0m     \u001b[38;2;212;183;2m│\u001b[0m\n",
       "\u001b[38;2;212;183;2m│\u001b[0m                                                                                                                 \u001b[38;2;212;183;2m│\u001b[0m\n",
       "\u001b[38;2;212;183;2m╰─\u001b[0m\u001b[38;2;212;183;2m LiteLLMModel - ollama_chat/qwen3:8b \u001b[0m\u001b[38;2;212;183;2m──────────────────────────────────────────────────────────────────────────\u001b[0m\u001b[38;2;212;183;2m─╯\u001b[0m\n"
      ]
     },
     "metadata": {},
     "output_type": "display_data"
    },
    {
     "data": {
      "text/html": [
       "<pre style=\"white-space:pre;overflow-x:auto;line-height:normal;font-family:Menlo,'DejaVu Sans Mono',consolas,'Courier New',monospace\"><span style=\"color: #d4b702; text-decoration-color: #d4b702\">━━━━━━━━━━━━━━━━━━━━━━━━━━━━━━━━━━━━━━━━━━━━━━━━━━━━━ </span><span style=\"font-weight: bold\">Step </span><span style=\"color: #008080; text-decoration-color: #008080; font-weight: bold\">1</span><span style=\"color: #d4b702; text-decoration-color: #d4b702\"> ━━━━━━━━━━━━━━━━━━━━━━━━━━━━━━━━━━━━━━━━━━━━━━━━━━━━━━</span>\n",
       "</pre>\n"
      ],
      "text/plain": [
       "\u001b[38;2;212;183;2m━━━━━━━━━━━━━━━━━━━━━━━━━━━━━━━━━━━━━━━━━━━━━━━━━━━━━ \u001b[0m\u001b[1mStep \u001b[0m\u001b[1;36m1\u001b[0m\u001b[38;2;212;183;2m ━━━━━━━━━━━━━━━━━━━━━━━━━━━━━━━━━━━━━━━━━━━━━━━━━━━━━━\u001b[0m\n"
      ]
     },
     "metadata": {},
     "output_type": "display_data"
    },
    {
     "data": {
      "text/html": [
       "<pre style=\"white-space:pre;overflow-x:auto;line-height:normal;font-family:Menlo,'DejaVu Sans Mono',consolas,'Courier New',monospace\"> ─ <span style=\"font-weight: bold\">Executing parsed code:</span> ──────────────────────────────────────────────────────────────────────────────────────── \n",
       "  <span style=\"color: #f8f8f2; text-decoration-color: #f8f8f2; background-color: #272822\">search_results </span><span style=\"color: #ff4689; text-decoration-color: #ff4689; background-color: #272822\">=</span><span style=\"color: #f8f8f2; text-decoration-color: #f8f8f2; background-color: #272822\"> web_search(query</span><span style=\"color: #ff4689; text-decoration-color: #ff4689; background-color: #272822\">=</span><span style=\"color: #e6db74; text-decoration-color: #e6db74; background-color: #272822\">\"vaporwave themed party ideas\"</span><span style=\"color: #f8f8f2; text-decoration-color: #f8f8f2; background-color: #272822\">)</span><span style=\"background-color: #272822\">                                              </span>  \n",
       "  <span style=\"color: #f8f8f2; text-decoration-color: #f8f8f2; background-color: #272822\">print(search_results)</span><span style=\"background-color: #272822\">                                                                                          </span>  \n",
       " ───────────────────────────────────────────────────────────────────────────────────────────────────────────────── \n",
       "</pre>\n"
      ],
      "text/plain": [
       " ─ \u001b[1mExecuting parsed code:\u001b[0m ──────────────────────────────────────────────────────────────────────────────────────── \n",
       "  \u001b[38;2;248;248;242;48;2;39;40;34msearch_results\u001b[0m\u001b[38;2;248;248;242;48;2;39;40;34m \u001b[0m\u001b[38;2;255;70;137;48;2;39;40;34m=\u001b[0m\u001b[38;2;248;248;242;48;2;39;40;34m \u001b[0m\u001b[38;2;248;248;242;48;2;39;40;34mweb_search\u001b[0m\u001b[38;2;248;248;242;48;2;39;40;34m(\u001b[0m\u001b[38;2;248;248;242;48;2;39;40;34mquery\u001b[0m\u001b[38;2;255;70;137;48;2;39;40;34m=\u001b[0m\u001b[38;2;230;219;116;48;2;39;40;34m\"\u001b[0m\u001b[38;2;230;219;116;48;2;39;40;34mvaporwave themed party ideas\u001b[0m\u001b[38;2;230;219;116;48;2;39;40;34m\"\u001b[0m\u001b[38;2;248;248;242;48;2;39;40;34m)\u001b[0m\u001b[48;2;39;40;34m                                              \u001b[0m  \n",
       "  \u001b[38;2;248;248;242;48;2;39;40;34mprint\u001b[0m\u001b[38;2;248;248;242;48;2;39;40;34m(\u001b[0m\u001b[38;2;248;248;242;48;2;39;40;34msearch_results\u001b[0m\u001b[38;2;248;248;242;48;2;39;40;34m)\u001b[0m\u001b[48;2;39;40;34m                                                                                          \u001b[0m  \n",
       " ───────────────────────────────────────────────────────────────────────────────────────────────────────────────── \n"
      ]
     },
     "metadata": {},
     "output_type": "display_data"
    },
    {
     "data": {
      "text/html": [
       "<pre style=\"white-space:pre;overflow-x:auto;line-height:normal;font-family:Menlo,'DejaVu Sans Mono',consolas,'Courier New',monospace\"><span style=\"color: #800000; text-decoration-color: #800000; font-weight: bold\">Code execution failed at line </span><span style=\"color: #008000; text-decoration-color: #008000\">'search_results = web_search(query=\"vaporwave themed party ideas\")'</span><span style=\"color: #800000; text-decoration-color: #800000; font-weight: bold\"> due to: </span>\n",
       "<span style=\"color: #800000; text-decoration-color: #800000; font-weight: bold\">DuckDuckGoSearchException: </span><span style=\"color: #0000ff; text-decoration-color: #0000ff; text-decoration: underline\">https://lite.duckduckgo.com/lite/</span><span style=\"color: #800000; text-decoration-color: #800000; font-weight: bold\"> </span><span style=\"color: #008080; text-decoration-color: #008080; font-weight: bold\">202</span><span style=\"color: #800000; text-decoration-color: #800000; font-weight: bold\"> Ratelimit</span>\n",
       "</pre>\n"
      ],
      "text/plain": [
       "\u001b[1;31mCode execution failed at line \u001b[0m\u001b[32m'search_results = web_search\u001b[0m\u001b[32m(\u001b[0m\u001b[32mquery\u001b[0m\u001b[32m=\u001b[0m\u001b[32m\"vaporwave\u001b[0m\u001b[32m themed party ideas\"\u001b[0m\u001b[32m)\u001b[0m\u001b[32m'\u001b[0m\u001b[1;31m due to: \u001b[0m\n",
       "\u001b[1;31mDuckDuckGoSearchException: \u001b[0m\u001b[4;94mhttps://lite.duckduckgo.com/lite/\u001b[0m\u001b[1;31m \u001b[0m\u001b[1;36m202\u001b[0m\u001b[1;31m Ratelimit\u001b[0m\n"
      ]
     },
     "metadata": {},
     "output_type": "display_data"
    },
    {
     "data": {
      "text/html": [
       "<pre style=\"white-space:pre;overflow-x:auto;line-height:normal;font-family:Menlo,'DejaVu Sans Mono',consolas,'Courier New',monospace\"><span style=\"color: #7f7f7f; text-decoration-color: #7f7f7f\">[Step 1: Duration 40.63 seconds| Input tokens: 2,058 | Output tokens: 379]</span>\n",
       "</pre>\n"
      ],
      "text/plain": [
       "\u001b[2m[Step 1: Duration 40.63 seconds| Input tokens: 2,058 | Output tokens: 379]\u001b[0m\n"
      ]
     },
     "metadata": {},
     "output_type": "display_data"
    },
    {
     "data": {
      "text/html": [
       "<pre style=\"white-space:pre;overflow-x:auto;line-height:normal;font-family:Menlo,'DejaVu Sans Mono',consolas,'Courier New',monospace\"><span style=\"color: #d4b702; text-decoration-color: #d4b702\">━━━━━━━━━━━━━━━━━━━━━━━━━━━━━━━━━━━━━━━━━━━━━━━━━━━━━ </span><span style=\"font-weight: bold\">Step </span><span style=\"color: #008080; text-decoration-color: #008080; font-weight: bold\">2</span><span style=\"color: #d4b702; text-decoration-color: #d4b702\"> ━━━━━━━━━━━━━━━━━━━━━━━━━━━━━━━━━━━━━━━━━━━━━━━━━━━━━━</span>\n",
       "</pre>\n"
      ],
      "text/plain": [
       "\u001b[38;2;212;183;2m━━━━━━━━━━━━━━━━━━━━━━━━━━━━━━━━━━━━━━━━━━━━━━━━━━━━━ \u001b[0m\u001b[1mStep \u001b[0m\u001b[1;36m2\u001b[0m\u001b[38;2;212;183;2m ━━━━━━━━━━━━━━━━━━━━━━━━━━━━━━━━━━━━━━━━━━━━━━━━━━━━━━\u001b[0m\n"
      ]
     },
     "metadata": {},
     "output_type": "display_data"
    },
    {
     "data": {
      "text/html": [
       "<pre style=\"white-space:pre;overflow-x:auto;line-height:normal;font-family:Menlo,'DejaVu Sans Mono',consolas,'Courier New',monospace\"> ─ <span style=\"font-weight: bold\">Executing parsed code:</span> ──────────────────────────────────────────────────────────────────────────────────────── \n",
       "  <span style=\"color: #f8f8f2; text-decoration-color: #f8f8f2; background-color: #272822\">color_search </span><span style=\"color: #ff4689; text-decoration-color: #ff4689; background-color: #272822\">=</span><span style=\"color: #f8f8f2; text-decoration-color: #f8f8f2; background-color: #272822\"> web_search(query</span><span style=\"color: #ff4689; text-decoration-color: #ff4689; background-color: #272822\">=</span><span style=\"color: #e6db74; text-decoration-color: #e6db74; background-color: #272822\">\"vaporwave party color schemes\"</span><span style=\"color: #f8f8f2; text-decoration-color: #f8f8f2; background-color: #272822\">)</span><span style=\"background-color: #272822\">                                               </span>  \n",
       "  <span style=\"color: #f8f8f2; text-decoration-color: #f8f8f2; background-color: #272822\">print(color_search)</span><span style=\"background-color: #272822\">                                                                                            </span>  \n",
       " ───────────────────────────────────────────────────────────────────────────────────────────────────────────────── \n",
       "</pre>\n"
      ],
      "text/plain": [
       " ─ \u001b[1mExecuting parsed code:\u001b[0m ──────────────────────────────────────────────────────────────────────────────────────── \n",
       "  \u001b[38;2;248;248;242;48;2;39;40;34mcolor_search\u001b[0m\u001b[38;2;248;248;242;48;2;39;40;34m \u001b[0m\u001b[38;2;255;70;137;48;2;39;40;34m=\u001b[0m\u001b[38;2;248;248;242;48;2;39;40;34m \u001b[0m\u001b[38;2;248;248;242;48;2;39;40;34mweb_search\u001b[0m\u001b[38;2;248;248;242;48;2;39;40;34m(\u001b[0m\u001b[38;2;248;248;242;48;2;39;40;34mquery\u001b[0m\u001b[38;2;255;70;137;48;2;39;40;34m=\u001b[0m\u001b[38;2;230;219;116;48;2;39;40;34m\"\u001b[0m\u001b[38;2;230;219;116;48;2;39;40;34mvaporwave party color schemes\u001b[0m\u001b[38;2;230;219;116;48;2;39;40;34m\"\u001b[0m\u001b[38;2;248;248;242;48;2;39;40;34m)\u001b[0m\u001b[48;2;39;40;34m                                               \u001b[0m  \n",
       "  \u001b[38;2;248;248;242;48;2;39;40;34mprint\u001b[0m\u001b[38;2;248;248;242;48;2;39;40;34m(\u001b[0m\u001b[38;2;248;248;242;48;2;39;40;34mcolor_search\u001b[0m\u001b[38;2;248;248;242;48;2;39;40;34m)\u001b[0m\u001b[48;2;39;40;34m                                                                                            \u001b[0m  \n",
       " ───────────────────────────────────────────────────────────────────────────────────────────────────────────────── \n"
      ]
     },
     "metadata": {},
     "output_type": "display_data"
    },
    {
     "data": {
      "text/html": [
       "<pre style=\"white-space:pre;overflow-x:auto;line-height:normal;font-family:Menlo,'DejaVu Sans Mono',consolas,'Courier New',monospace\"><span style=\"font-weight: bold\">Execution logs:</span>\n",
       "## Search Results\n",
       "\n",
       "[35 Vaporwave Color Palettes &amp; Schemes](https://colorany.com/color-palettes/vaporwave-color-palettes/)\n",
       "Description Dive into the nostalgic depths of the 'Vaporwave Color Palettes' collection, where pastel hues and neon\n",
       "vibes collide to create a dreamlike aesthetic. Each palette is meticulously crafted to evoke feelings of retro \n",
       "futurism, making them perfect for digital art, website designs, and social media graphics. With striking color \n",
       "schemes that reflect the essence of early internet ...\n",
       "\n",
       "[Vaporwave Color Scheme - Palettes - SchemeColor.com](https://www.schemecolor.com/vaporwave.php)\n",
       "Download Vaporwave color scheme consisting of Russian Violet, Mardi Gras, Cerise Pink, Rajah, Persian Rose and \n",
       "Persian Blue, Only at SchemeColor.com\n",
       "\n",
       "[Vaporwave Color Palette - Pinterest](https://www.pinterest.com/ideas/vaporwave-color-palette/934534150440/)\n",
       "Find and save ideas about vaporwave color palette on Pinterest.\n",
       "\n",
       "[VaporWave Color Palette](https://www.color-hex.com/color-palette/10221)\n",
       "VaporWave color palette created by greenquee that consists #ff71ce,#01cdfe,#05ffa1,#b967ff,#fffb96 colors.\n",
       "\n",
       "[Vaporwave Color Palette with HEX Codes - \n",
       "Eggradients.com](https://www.eggradients.com/blog/vaporwave-color-palette)\n",
       "Vaporwave is characterized by its pastel colors, geometric shapes, and glitchy effects. This color palette is \n",
       "perfect for creating a retro-futuristic feel. To get started, try pairing soft pinks and blues with bold geometric \n",
       "shapes. Add in some glitchy effects for an extra dose of nostalgia. Whether you're a graphic designer, musician, or\n",
       "fashionista, vaporwave is a great way to add a unique ...\n",
       "\n",
       "[Vaporwave Color Palette - Retro-Digital Aesthetics](https://mycleverai.com/vaporwave-color-palette)\n",
       "For color theory enthusiasts, our vaporwave palette demonstrates the power of contrast and harmony in creating \n",
       "memorable visual experiences. Each shade has been selected to work both independently and as part of larger color \n",
       "schemes, enabling designers to create authentic vaporwave aesthetics across any medium.\n",
       "\n",
       "[107+ Vaporwave Color Palettes: Hex Codes, RGB &amp; Meaning](https://theapplaunchpad.com/color-palettes/vaporwave)\n",
       "107+ Vaporwave Color Palettes: Hex Codes, RGB &amp; Meaning Vaporwave color refers to a palette of pastel and neon \n",
       "colors, often used in aesthetics inspired by 80s and 90s digital technology and pop culture.\n",
       "\n",
       "[Vaporwave Color Palette](https://colormagic.app/palette/671a7a0209608ca106fca0df)\n",
       "A beautiful vaporwave color palette consisting of blush pink #ff75ff, cyan / aqua #3dffec, golden tainoi #ffce5c, \n",
       "wild watermelon #ff5c8d, medium red violet #aa2c8d.\n",
       "\n",
       "[Vaporwave Color Palette | colorpalettes.io](https://colorpalettes.io/palette/vaporwave)\n",
       "The color #7744FF, a deep purplish-blue, represents mystery, creativity, and the infinite possibilities of the \n",
       "universe. Lastly, the color #FF33FF, a vivid magenta, embodies love, compassion, and understanding. The colors in \n",
       "the Vaporwave palette complement and contrast each other in a way that's visually stimulating and harmonious.\n",
       "\n",
       "[Color Palette: Vaporwave - The Color Palette \n",
       "Studio](https://thecolorpalettestudio.com/blogs/color-palettes/color-palette-vaporwave)\n",
       "Vaporwave is a nostalgic yet futuristic color palette featuring Cybermist, Dreampink, NeonAqua, PeachGlitch, \n",
       "VirtualRose, and CyberPlum. Perfect for digital branding, retro aesthetics, and bold social media graphics.\n",
       "\n",
       "Out: None\n",
       "</pre>\n"
      ],
      "text/plain": [
       "\u001b[1mExecution logs:\u001b[0m\n",
       "## Search Results\n",
       "\n",
       "[35 Vaporwave Color Palettes & Schemes](https://colorany.com/color-palettes/vaporwave-color-palettes/)\n",
       "Description Dive into the nostalgic depths of the 'Vaporwave Color Palettes' collection, where pastel hues and neon\n",
       "vibes collide to create a dreamlike aesthetic. Each palette is meticulously crafted to evoke feelings of retro \n",
       "futurism, making them perfect for digital art, website designs, and social media graphics. With striking color \n",
       "schemes that reflect the essence of early internet ...\n",
       "\n",
       "[Vaporwave Color Scheme - Palettes - SchemeColor.com](https://www.schemecolor.com/vaporwave.php)\n",
       "Download Vaporwave color scheme consisting of Russian Violet, Mardi Gras, Cerise Pink, Rajah, Persian Rose and \n",
       "Persian Blue, Only at SchemeColor.com\n",
       "\n",
       "[Vaporwave Color Palette - Pinterest](https://www.pinterest.com/ideas/vaporwave-color-palette/934534150440/)\n",
       "Find and save ideas about vaporwave color palette on Pinterest.\n",
       "\n",
       "[VaporWave Color Palette](https://www.color-hex.com/color-palette/10221)\n",
       "VaporWave color palette created by greenquee that consists #ff71ce,#01cdfe,#05ffa1,#b967ff,#fffb96 colors.\n",
       "\n",
       "[Vaporwave Color Palette with HEX Codes - \n",
       "Eggradients.com](https://www.eggradients.com/blog/vaporwave-color-palette)\n",
       "Vaporwave is characterized by its pastel colors, geometric shapes, and glitchy effects. This color palette is \n",
       "perfect for creating a retro-futuristic feel. To get started, try pairing soft pinks and blues with bold geometric \n",
       "shapes. Add in some glitchy effects for an extra dose of nostalgia. Whether you're a graphic designer, musician, or\n",
       "fashionista, vaporwave is a great way to add a unique ...\n",
       "\n",
       "[Vaporwave Color Palette - Retro-Digital Aesthetics](https://mycleverai.com/vaporwave-color-palette)\n",
       "For color theory enthusiasts, our vaporwave palette demonstrates the power of contrast and harmony in creating \n",
       "memorable visual experiences. Each shade has been selected to work both independently and as part of larger color \n",
       "schemes, enabling designers to create authentic vaporwave aesthetics across any medium.\n",
       "\n",
       "[107+ Vaporwave Color Palettes: Hex Codes, RGB & Meaning](https://theapplaunchpad.com/color-palettes/vaporwave)\n",
       "107+ Vaporwave Color Palettes: Hex Codes, RGB & Meaning Vaporwave color refers to a palette of pastel and neon \n",
       "colors, often used in aesthetics inspired by 80s and 90s digital technology and pop culture.\n",
       "\n",
       "[Vaporwave Color Palette](https://colormagic.app/palette/671a7a0209608ca106fca0df)\n",
       "A beautiful vaporwave color palette consisting of blush pink #ff75ff, cyan / aqua #3dffec, golden tainoi #ffce5c, \n",
       "wild watermelon #ff5c8d, medium red violet #aa2c8d.\n",
       "\n",
       "[Vaporwave Color Palette | colorpalettes.io](https://colorpalettes.io/palette/vaporwave)\n",
       "The color #7744FF, a deep purplish-blue, represents mystery, creativity, and the infinite possibilities of the \n",
       "universe. Lastly, the color #FF33FF, a vivid magenta, embodies love, compassion, and understanding. The colors in \n",
       "the Vaporwave palette complement and contrast each other in a way that's visually stimulating and harmonious.\n",
       "\n",
       "[Color Palette: Vaporwave - The Color Palette \n",
       "Studio](https://thecolorpalettestudio.com/blogs/color-palettes/color-palette-vaporwave)\n",
       "Vaporwave is a nostalgic yet futuristic color palette featuring Cybermist, Dreampink, NeonAqua, PeachGlitch, \n",
       "VirtualRose, and CyberPlum. Perfect for digital branding, retro aesthetics, and bold social media graphics.\n",
       "\n",
       "Out: None\n"
      ]
     },
     "metadata": {},
     "output_type": "display_data"
    },
    {
     "data": {
      "text/html": [
       "<pre style=\"white-space:pre;overflow-x:auto;line-height:normal;font-family:Menlo,'DejaVu Sans Mono',consolas,'Courier New',monospace\"><span style=\"color: #7f7f7f; text-decoration-color: #7f7f7f\">[Step 2: Duration 14.34 seconds| Input tokens: 4,326 | Output tokens: 594]</span>\n",
       "</pre>\n"
      ],
      "text/plain": [
       "\u001b[2m[Step 2: Duration 14.34 seconds| Input tokens: 4,326 | Output tokens: 594]\u001b[0m\n"
      ]
     },
     "metadata": {},
     "output_type": "display_data"
    },
    {
     "data": {
      "text/html": [
       "<pre style=\"white-space:pre;overflow-x:auto;line-height:normal;font-family:Menlo,'DejaVu Sans Mono',consolas,'Courier New',monospace\"><span style=\"color: #d4b702; text-decoration-color: #d4b702\">━━━━━━━━━━━━━━━━━━━━━━━━━━━━━━━━━━━━━━━━━━━━━━━━━━━━━ </span><span style=\"font-weight: bold\">Step </span><span style=\"color: #008080; text-decoration-color: #008080; font-weight: bold\">3</span><span style=\"color: #d4b702; text-decoration-color: #d4b702\"> ━━━━━━━━━━━━━━━━━━━━━━━━━━━━━━━━━━━━━━━━━━━━━━━━━━━━━━</span>\n",
       "</pre>\n"
      ],
      "text/plain": [
       "\u001b[38;2;212;183;2m━━━━━━━━━━━━━━━━━━━━━━━━━━━━━━━━━━━━━━━━━━━━━━━━━━━━━ \u001b[0m\u001b[1mStep \u001b[0m\u001b[1;36m3\u001b[0m\u001b[38;2;212;183;2m ━━━━━━━━━━━━━━━━━━━━━━━━━━━━━━━━━━━━━━━━━━━━━━━━━━━━━━\u001b[0m\n"
      ]
     },
     "metadata": {},
     "output_type": "display_data"
    },
    {
     "data": {
      "text/html": [
       "<pre style=\"white-space:pre;overflow-x:auto;line-height:normal;font-family:Menlo,'DejaVu Sans Mono',consolas,'Courier New',monospace\"> ─ <span style=\"font-weight: bold\">Executing parsed code:</span> ──────────────────────────────────────────────────────────────────────────────────────── \n",
       "  <span style=\"color: #959077; text-decoration-color: #959077; background-color: #272822\"># Search for vaporwave party decorations</span><span style=\"background-color: #272822\">                                                                       </span>  \n",
       "  <span style=\"color: #f8f8f2; text-decoration-color: #f8f8f2; background-color: #272822\">decorations_search </span><span style=\"color: #ff4689; text-decoration-color: #ff4689; background-color: #272822\">=</span><span style=\"color: #f8f8f2; text-decoration-color: #f8f8f2; background-color: #272822\"> web_search(query</span><span style=\"color: #ff4689; text-decoration-color: #ff4689; background-color: #272822\">=</span><span style=\"color: #e6db74; text-decoration-color: #e6db74; background-color: #272822\">\"vaporwave party decorations\"</span><span style=\"color: #f8f8f2; text-decoration-color: #f8f8f2; background-color: #272822\">)</span><span style=\"background-color: #272822\">                                           </span>  \n",
       "  <span style=\"color: #f8f8f2; text-decoration-color: #f8f8f2; background-color: #272822\">print(decorations_search)</span><span style=\"background-color: #272822\">                                                                                      </span>  \n",
       "  <span style=\"background-color: #272822\">                                                                                                               </span>  \n",
       "  <span style=\"color: #959077; text-decoration-color: #959077; background-color: #272822\"># Search for vaporwave party entertainment</span><span style=\"background-color: #272822\">                                                                     </span>  \n",
       "  <span style=\"color: #f8f8f2; text-decoration-color: #f8f8f2; background-color: #272822\">entertainment_search </span><span style=\"color: #ff4689; text-decoration-color: #ff4689; background-color: #272822\">=</span><span style=\"color: #f8f8f2; text-decoration-color: #f8f8f2; background-color: #272822\"> web_search(query</span><span style=\"color: #ff4689; text-decoration-color: #ff4689; background-color: #272822\">=</span><span style=\"color: #e6db74; text-decoration-color: #e6db74; background-color: #272822\">\"vaporwave party entertainment\"</span><span style=\"color: #f8f8f2; text-decoration-color: #f8f8f2; background-color: #272822\">)</span><span style=\"background-color: #272822\">                                       </span>  \n",
       "  <span style=\"color: #f8f8f2; text-decoration-color: #f8f8f2; background-color: #272822\">print(entertainment_search)</span><span style=\"background-color: #272822\">                                                                                    </span>  \n",
       "  <span style=\"background-color: #272822\">                                                                                                               </span>  \n",
       "  <span style=\"color: #959077; text-decoration-color: #959077; background-color: #272822\"># Search for vaporwave party catering</span><span style=\"background-color: #272822\">                                                                          </span>  \n",
       "  <span style=\"color: #f8f8f2; text-decoration-color: #f8f8f2; background-color: #272822\">catering_search </span><span style=\"color: #ff4689; text-decoration-color: #ff4689; background-color: #272822\">=</span><span style=\"color: #f8f8f2; text-decoration-color: #f8f8f2; background-color: #272822\"> web_search(query</span><span style=\"color: #ff4689; text-decoration-color: #ff4689; background-color: #272822\">=</span><span style=\"color: #e6db74; text-decoration-color: #e6db74; background-color: #272822\">\"vaporwave party catering\"</span><span style=\"color: #f8f8f2; text-decoration-color: #f8f8f2; background-color: #272822\">)</span><span style=\"background-color: #272822\">                                                 </span>  \n",
       "  <span style=\"color: #f8f8f2; text-decoration-color: #f8f8f2; background-color: #272822\">print(catering_search)</span><span style=\"background-color: #272822\">                                                                                         </span>  \n",
       " ───────────────────────────────────────────────────────────────────────────────────────────────────────────────── \n",
       "</pre>\n"
      ],
      "text/plain": [
       " ─ \u001b[1mExecuting parsed code:\u001b[0m ──────────────────────────────────────────────────────────────────────────────────────── \n",
       "  \u001b[38;2;149;144;119;48;2;39;40;34m# Search for vaporwave party decorations\u001b[0m\u001b[48;2;39;40;34m                                                                       \u001b[0m  \n",
       "  \u001b[38;2;248;248;242;48;2;39;40;34mdecorations_search\u001b[0m\u001b[38;2;248;248;242;48;2;39;40;34m \u001b[0m\u001b[38;2;255;70;137;48;2;39;40;34m=\u001b[0m\u001b[38;2;248;248;242;48;2;39;40;34m \u001b[0m\u001b[38;2;248;248;242;48;2;39;40;34mweb_search\u001b[0m\u001b[38;2;248;248;242;48;2;39;40;34m(\u001b[0m\u001b[38;2;248;248;242;48;2;39;40;34mquery\u001b[0m\u001b[38;2;255;70;137;48;2;39;40;34m=\u001b[0m\u001b[38;2;230;219;116;48;2;39;40;34m\"\u001b[0m\u001b[38;2;230;219;116;48;2;39;40;34mvaporwave party decorations\u001b[0m\u001b[38;2;230;219;116;48;2;39;40;34m\"\u001b[0m\u001b[38;2;248;248;242;48;2;39;40;34m)\u001b[0m\u001b[48;2;39;40;34m                                           \u001b[0m  \n",
       "  \u001b[38;2;248;248;242;48;2;39;40;34mprint\u001b[0m\u001b[38;2;248;248;242;48;2;39;40;34m(\u001b[0m\u001b[38;2;248;248;242;48;2;39;40;34mdecorations_search\u001b[0m\u001b[38;2;248;248;242;48;2;39;40;34m)\u001b[0m\u001b[48;2;39;40;34m                                                                                      \u001b[0m  \n",
       "  \u001b[48;2;39;40;34m                                                                                                               \u001b[0m  \n",
       "  \u001b[38;2;149;144;119;48;2;39;40;34m# Search for vaporwave party entertainment\u001b[0m\u001b[48;2;39;40;34m                                                                     \u001b[0m  \n",
       "  \u001b[38;2;248;248;242;48;2;39;40;34mentertainment_search\u001b[0m\u001b[38;2;248;248;242;48;2;39;40;34m \u001b[0m\u001b[38;2;255;70;137;48;2;39;40;34m=\u001b[0m\u001b[38;2;248;248;242;48;2;39;40;34m \u001b[0m\u001b[38;2;248;248;242;48;2;39;40;34mweb_search\u001b[0m\u001b[38;2;248;248;242;48;2;39;40;34m(\u001b[0m\u001b[38;2;248;248;242;48;2;39;40;34mquery\u001b[0m\u001b[38;2;255;70;137;48;2;39;40;34m=\u001b[0m\u001b[38;2;230;219;116;48;2;39;40;34m\"\u001b[0m\u001b[38;2;230;219;116;48;2;39;40;34mvaporwave party entertainment\u001b[0m\u001b[38;2;230;219;116;48;2;39;40;34m\"\u001b[0m\u001b[38;2;248;248;242;48;2;39;40;34m)\u001b[0m\u001b[48;2;39;40;34m                                       \u001b[0m  \n",
       "  \u001b[38;2;248;248;242;48;2;39;40;34mprint\u001b[0m\u001b[38;2;248;248;242;48;2;39;40;34m(\u001b[0m\u001b[38;2;248;248;242;48;2;39;40;34mentertainment_search\u001b[0m\u001b[38;2;248;248;242;48;2;39;40;34m)\u001b[0m\u001b[48;2;39;40;34m                                                                                    \u001b[0m  \n",
       "  \u001b[48;2;39;40;34m                                                                                                               \u001b[0m  \n",
       "  \u001b[38;2;149;144;119;48;2;39;40;34m# Search for vaporwave party catering\u001b[0m\u001b[48;2;39;40;34m                                                                          \u001b[0m  \n",
       "  \u001b[38;2;248;248;242;48;2;39;40;34mcatering_search\u001b[0m\u001b[38;2;248;248;242;48;2;39;40;34m \u001b[0m\u001b[38;2;255;70;137;48;2;39;40;34m=\u001b[0m\u001b[38;2;248;248;242;48;2;39;40;34m \u001b[0m\u001b[38;2;248;248;242;48;2;39;40;34mweb_search\u001b[0m\u001b[38;2;248;248;242;48;2;39;40;34m(\u001b[0m\u001b[38;2;248;248;242;48;2;39;40;34mquery\u001b[0m\u001b[38;2;255;70;137;48;2;39;40;34m=\u001b[0m\u001b[38;2;230;219;116;48;2;39;40;34m\"\u001b[0m\u001b[38;2;230;219;116;48;2;39;40;34mvaporwave party catering\u001b[0m\u001b[38;2;230;219;116;48;2;39;40;34m\"\u001b[0m\u001b[38;2;248;248;242;48;2;39;40;34m)\u001b[0m\u001b[48;2;39;40;34m                                                 \u001b[0m  \n",
       "  \u001b[38;2;248;248;242;48;2;39;40;34mprint\u001b[0m\u001b[38;2;248;248;242;48;2;39;40;34m(\u001b[0m\u001b[38;2;248;248;242;48;2;39;40;34mcatering_search\u001b[0m\u001b[38;2;248;248;242;48;2;39;40;34m)\u001b[0m\u001b[48;2;39;40;34m                                                                                         \u001b[0m  \n",
       " ───────────────────────────────────────────────────────────────────────────────────────────────────────────────── \n"
      ]
     },
     "metadata": {},
     "output_type": "display_data"
    },
    {
     "data": {
      "text/html": [
       "<pre style=\"white-space:pre;overflow-x:auto;line-height:normal;font-family:Menlo,'DejaVu Sans Mono',consolas,'Courier New',monospace\"><span style=\"font-weight: bold\">Execution logs:</span>\n",
       "## Search Results\n",
       "\n",
       "[Amazon.com: Vaporwave Decor](https://www.amazon.com/vaporwave-decor/s?k=vaporwave+decor)\n",
       "Vaporwave Stickers for Water Bottle and Laptop - Vaporwave Party Favors &amp; Decorations, Waterproof Vinyl Decals, \n",
       "Aesthetic and Retro Stickers. 4.3 out of 5 stars. 2,521. Price, product page $6.99 $ 6. 99. FREE delivery Mon, Mar \n",
       "17 on $35 of items shipped by Amazon. Or fastest delivery Fri, Mar 14 .\n",
       "\n",
       "[Vaporwave Stickers for Water Bottle and Laptop - Vaporwave Party Favors \n",
       "...](https://www.amazon.com/Vaporwave-Stickers-Water-Bottle-Laptop/dp/B0D6GJ7PZ2)\n",
       "DECOR - Perfect for decorating laptops, phones, skateboards, luggage, bikes and more. Use them as Vaporwave \n",
       "stickers party favors and Vaporwave stickers party decorations. Let your creativity run wild with our diverse \n",
       "sticker designs.\n",
       "\n",
       "[Vaporwave Decorations - Etsy](https://www.etsy.com/market/vaporwave_decorations)\n",
       "Check out our vaporwave decorations selection for the very best in unique or custom, handmade pieces from our signs\n",
       "shops. ... Set of 10 Lighted Cassette Tape Centerpieces for 80s 90s party music theme rock n roll music (862) $ \n",
       "320.00. FREE shipping Add to Favorites ...\n",
       "\n",
       "[Vaporwave Decor - Etsy](https://www.etsy.com/market/vaporwave_decor)\n",
       "Check out our vaporwave decor selection for the very best in unique or custom, handmade pieces from our wall decor \n",
       "shops. ... Lofi Stationary, Aesthetic Scrapbook Supplies, 90's Party, City Pop Art (227) $ 7.65. Add to Favorites \n",
       "Retro Tokyo Wall Art, Framed Canvas Print, Vaporwave Style, Guest room decor, Retro, Pop Art, Opaque colors ...\n",
       "\n",
       "[How can I make my Vaporwave party more e s t h e t i \n",
       "c](https://www.reddit.com/r/Vaporwave/comments/17x4e3e/how_can_i_make_my_vaporwave_party_more_e_s_t_h_e/)\n",
       "Decorations: So I got inflatable dolphins, a bunch of plastic flamingos to go in the outdoor smoking area and a few\n",
       "cheap looking inflatable palm trees. Also I am getting my buddy to bring his collection of really old CRT TV's and \n",
       "his collection of obscure japanese fighting and rpg games from the 1990's on old game systems\n",
       "\n",
       "[Vapor Wave Decor - Etsy](https://www.etsy.com/market/vapor_wave_decor)\n",
       "Check out our vapor wave decor selection for the very best in unique or custom, handmade pieces from our wall \n",
       "hangings shops.\n",
       "\n",
       "[94 Vaporwave party ideas | vaporwave, neon aesthetic ... - \n",
       "Pinterest](https://www.pinterest.com/marina5289/vaporwave-party/)\n",
       "Sep 24, 2017 - Explore Marina Rodrigues's board \"Vaporwave party\" on Pinterest. See more ideas about vaporwave, \n",
       "neon aesthetic, vaporwave aesthetic.\n",
       "\n",
       "[Create a Memorable Vaporwave Party with These Ideas - \n",
       "Pinterest](https://www.pinterest.com/ideas/vaporwave-party/951940746961/)\n",
       "Transform your event into a nostalgic and stylish vaporwave party. Explore top ideas to set the perfect ambiance \n",
       "and make your guests groove to the retro beats.\n",
       "\n",
       "[Amazon.com : vaporwave](https://www.amazon.com/s?k=vaporwave)\n",
       "Vaporwave Stickers for Water Bottle and Laptop - Vaporwave Party Favors &amp; Decorations, Waterproof Vinyl Decals, \n",
       "Aesthetic and Retro Stickers. 4.2 out of 5 stars 2,940. Price, product page $6.99 $ 6. 99. FREE delivery Wed, Apr \n",
       "30 on $35 of items shipped by Amazon. Add to cart +436. ILNP Cosmetics, Inc.\n",
       "\n",
       "[12 Vaporwave party ideas | vaporwave, artificial plants outdoor \n",
       "...](https://www.pinterest.com/germanethelmerman/vaporwave-party/)\n",
       "Aug 8, 2018 - Explore Wheezy Christine's board \"vaporwave party\" on Pinterest. See more ideas about vaporwave, \n",
       "artificial plants outdoor, planting flowers.\n",
       "## Search Results\n",
       "\n",
       "[How can I make my Vaporwave party more e s t h e t i \n",
       "c](https://www.reddit.com/r/Vaporwave/comments/17x4e3e/how_can_i_make_my_vaporwave_party_more_e_s_t_h_e/)\n",
       "Hey guys! I am throwing a Vaporwave themed party and I wanted yalls take on how I can make it better and more a e s\n",
       "t h e t i c. So here's what I'm doing: 3 DJ's. One of them is a Future Funk Idol Group and then I have one spinning\n",
       "Vaporwave and one spinning Darkwave\n",
       "\n",
       "[Create a Memorable Vaporwave Party with These Ideas - \n",
       "Pinterest](https://www.pinterest.com/ideas/vaporwave-party/951940746961/)\n",
       "Transform your event into a nostalgic and stylish vaporwave party. Explore top ideas to set the perfect ambiance \n",
       "and make your guests groove to the retro beats.\n",
       "\n",
       "[Late Night Lights II - A Late Night Lo-Fi &amp; Vaporwave Fest](https://latenightlofi.com/)\n",
       "With nearly 90 vaporwave and late night lo fi musicians and video artists, this will be an experience to remember \n",
       "🙏 This is a FULL DAY two day event, with each day starting at 11:00AM EST and running to around 1AM EST, with an \n",
       "after party slotted to follow on each day, hosted by All Hell Breaks Loops, and Pocari Online. Headliners for the \n",
       "...\n",
       "\n",
       "[Ideas for Vaporwave Birthday Party : r/Vaporwave - \n",
       "Reddit](https://www.reddit.com/r/Vaporwave/comments/4l0z2v/ideas_for_vaporwave_birthday_party/)\n",
       "Hello humans. I'm attempting to throw a 21st Vaporwave-themed birthday party and I was wondering if you had any \n",
       "novel drink/decor/clothing ideas. I doubt people have vaporwave shirts so I thought I could tell guests to wear \n",
       "80s/90s inspired clothing. I have LED and blacklights on deck but it's really hard to find fake palm trees and the \n",
       "like.\n",
       "\n",
       "[Vaporwave News Network](https://www.vaporwavenewsnetwork.com/)\n",
       "Vote Now: Best Vaporwave and Future Funk of 2024 Show Review: Yoi Toki Single Release Party (feat. Macross 82-99) \n",
       "at the Teragram Ballroom, Los Angeles Best Future Funk of 2023 DJ Mix Research Interviews: luxury elite &amp; Keith \n",
       "Rankin (Giant Claw, DDS, Orange Milk Records)\n",
       "\n",
       "[How a vaporwave party starts : r/VaporwaveAesthetics - \n",
       "Reddit](https://www.reddit.com/r/VaporwaveAesthetics/comments/7apq0f/how_a_vaporwave_party_starts/)\n",
       "Posted by u/zerotonothing - 2,071 votes and 57 comments\n",
       "\n",
       "[94 Vaporwave party ideas | vaporwave, neon aesthetic ... - \n",
       "Pinterest](https://www.pinterest.com/marina5289/vaporwave-party/)\n",
       "Sep 24, 2017 - Explore Marina Rodrigues's board \"Vaporwave party\" on Pinterest. See more ideas about vaporwave, \n",
       "neon aesthetic, vaporwave aesthetic.\n",
       "\n",
       "[Yoi Toki: A Future Funk / Vaporwave Party - The \n",
       "Masquerade](https://www.masqueradeatlanta.com/attraction/yoi-toki/)\n",
       "Future Funk is a Vaporwave subgenre that emerged around 2010 (championed by artists such as Yung Bae, Night Tempo \n",
       "and Macross 82-99) it uses elements of Funk and Disco combined with Japanese City Pop influences, resulting in a \n",
       "sound that is upbeat, insanely danceable and very funky. Future Funk's aesthetic is a mix of nostalgic […]\n",
       "\n",
       "[140 Vaporwave party ideas | vaporwave, vaporwave aesthetic ... - \n",
       "Pinterest](https://www.pinterest.com/nataliesetfree/vaporwave-party/)\n",
       "Apr 14, 2018 - Explore Natalie Harper's board \"vaporwave party\" on Pinterest. See more ideas about vaporwave, \n",
       "vaporwave aesthetic, vaporwave art.\n",
       "\n",
       "[ElectroniCON 3 - The Knockdown Center](https://knockdown.center/event/electronicon-3/)\n",
       "After a two year hiatus, the legendary vaporwave festival ElectroniCON returns for its third and largest IRL \n",
       "gathering to date, where it all started - Brooklyn, NY at Knockdown Center on Aug 20, 2022. Featuring performances \n",
       "by George Clanton, Washed Out (DJ), Neon Indian (DJ), death's dynamic shroud, Neggy Gemmy, Saint Pepsi, Cowgirl \n",
       "Clue ...\n",
       "## Search Results\n",
       "\n",
       "[How can I make my Vaporwave party more e s t h e t i \n",
       "c](https://www.reddit.com/r/Vaporwave/comments/17x4e3e/how_can_i_make_my_vaporwave_party_more_e_s_t_h_e/)\n",
       "Hey guys! I am throwing a Vaporwave themed party and I wanted yalls take on how I can make it better and more a e s\n",
       "t h e t i c. So here's what I'm doing: 3 DJ's. One of them is a Future Funk Idol Group and then I have one spinning\n",
       "Vaporwave and one spinning Darkwave\n",
       "\n",
       "[Create a Memorable Vaporwave Party with These Ideas - \n",
       "Pinterest](https://www.pinterest.com/ideas/vaporwave-party/951940746961/)\n",
       "Transform your event into a nostalgic and stylish vaporwave party. Explore top ideas to set the perfect ambiance \n",
       "and make your guests groove to the retro beats.\n",
       "\n",
       "[94 Vaporwave party ideas | vaporwave, neon aesthetic ... - \n",
       "Pinterest](https://www.pinterest.com/marina5289/vaporwave-party/)\n",
       "Sep 24, 2017 - Explore Marina Rodrigues's board \"Vaporwave party\" on Pinterest. See more ideas about vaporwave, \n",
       "neon aesthetic, vaporwave aesthetic.\n",
       "\n",
       "[Ideas for Vaporwave Birthday Party : r/Vaporwave - \n",
       "Reddit](https://www.reddit.com/r/Vaporwave/comments/4l0z2v/ideas_for_vaporwave_birthday_party/)\n",
       "Hello humans. I'm attempting to throw a 21st Vaporwave-themed birthday party and I was wondering if you had any \n",
       "novel drink/decor/clothing ideas. I doubt people have vaporwave shirts so I thought I could tell guests to wear \n",
       "80s/90s inspired clothing. I have LED and blacklights on deck but it's really hard to find fake palm trees and the \n",
       "like.\n",
       "\n",
       "[How a vaporwave party starts : r/VaporwaveAesthetics - \n",
       "Reddit](https://www.reddit.com/r/VaporwaveAesthetics/comments/7apq0f/how_a_vaporwave_party_starts/)\n",
       "Posted by u/zerotonothing - 2,071 votes and 57 comments\n",
       "\n",
       "[140 Vaporwave party ideas | vaporwave, vaporwave aesthetic ... - \n",
       "Pinterest](https://www.pinterest.com/nataliesetfree/vaporwave-party/)\n",
       "Apr 14, 2018 - Explore Natalie Harper's board \"vaporwave party\" on Pinterest. See more ideas about vaporwave, \n",
       "vaporwave aesthetic, vaporwave art.\n",
       "\n",
       "[Vaporwave Party - Etsy](https://www.etsy.com/market/vaporwave_party)\n",
       "Check out our vaporwave party selection for the very best in unique or custom, handmade pieces from our invitations\n",
       "shops.\n",
       "\n",
       "[Top Catering Services In Hong Kong For Kids' Parties &amp; More - Sassy \n",
       "Mama](https://www.sassymamahk.com/sassy-mamas-roundup-of-top-caterers-in-hong-kong/)\n",
       "Calling all busy Mamas! If you're in need of seamless catering service for any occasions, big or small, the \n",
       "award-winning Shamrock Catering has you sorted. Hong Kong's longest-running caterers have been tried, tested and \n",
       "trusted since 1994 to whip up delicious spreads for everything from kids' birthday bashes (with special kid's \n",
       "menus) to glam cocktail parties, mouthwatering BBQs ...\n",
       "\n",
       "[Famous Dave's BBQ Catering](https://www.famousdaves.com/catering)\n",
       "Famous Dave's full service catering is perfect for large parties, corporate events, and weddings! Our trained \n",
       "catering team will bring everything - including buffet tables*, tablecloths*, and chafing dishes. We'll set up \n",
       "buffet lines as needed and can either serve your guests, or let them do self-serve.\n",
       "\n",
       "[Top Hong Kong Catering Services For Party Wow \n",
       "Factor](https://www.sassyhongkong.com/eat-drink-catering-companies-food-events-private-dining/)\n",
       "Bain Marie - No-fuss, zero-waste food catering services. Is it your turn to organise the next corporate lunch or \n",
       "dinner with friends? Leave the cooking and cleaning to the pros at Bain Marie.Simply place your order at least 48 \n",
       "hours in advance and have it delivered to you fresh on the day in plastic-free packaging.The food is prepared on \n",
       "the day by the in-house culinary team using tried-and ...\n",
       "\n",
       "Out: None\n",
       "</pre>\n"
      ],
      "text/plain": [
       "\u001b[1mExecution logs:\u001b[0m\n",
       "## Search Results\n",
       "\n",
       "[Amazon.com: Vaporwave Decor](https://www.amazon.com/vaporwave-decor/s?k=vaporwave+decor)\n",
       "Vaporwave Stickers for Water Bottle and Laptop - Vaporwave Party Favors & Decorations, Waterproof Vinyl Decals, \n",
       "Aesthetic and Retro Stickers. 4.3 out of 5 stars. 2,521. Price, product page $6.99 $ 6. 99. FREE delivery Mon, Mar \n",
       "17 on $35 of items shipped by Amazon. Or fastest delivery Fri, Mar 14 .\n",
       "\n",
       "[Vaporwave Stickers for Water Bottle and Laptop - Vaporwave Party Favors \n",
       "...](https://www.amazon.com/Vaporwave-Stickers-Water-Bottle-Laptop/dp/B0D6GJ7PZ2)\n",
       "DECOR - Perfect for decorating laptops, phones, skateboards, luggage, bikes and more. Use them as Vaporwave \n",
       "stickers party favors and Vaporwave stickers party decorations. Let your creativity run wild with our diverse \n",
       "sticker designs.\n",
       "\n",
       "[Vaporwave Decorations - Etsy](https://www.etsy.com/market/vaporwave_decorations)\n",
       "Check out our vaporwave decorations selection for the very best in unique or custom, handmade pieces from our signs\n",
       "shops. ... Set of 10 Lighted Cassette Tape Centerpieces for 80s 90s party music theme rock n roll music (862) $ \n",
       "320.00. FREE shipping Add to Favorites ...\n",
       "\n",
       "[Vaporwave Decor - Etsy](https://www.etsy.com/market/vaporwave_decor)\n",
       "Check out our vaporwave decor selection for the very best in unique or custom, handmade pieces from our wall decor \n",
       "shops. ... Lofi Stationary, Aesthetic Scrapbook Supplies, 90's Party, City Pop Art (227) $ 7.65. Add to Favorites \n",
       "Retro Tokyo Wall Art, Framed Canvas Print, Vaporwave Style, Guest room decor, Retro, Pop Art, Opaque colors ...\n",
       "\n",
       "[How can I make my Vaporwave party more e s t h e t i \n",
       "c](https://www.reddit.com/r/Vaporwave/comments/17x4e3e/how_can_i_make_my_vaporwave_party_more_e_s_t_h_e/)\n",
       "Decorations: So I got inflatable dolphins, a bunch of plastic flamingos to go in the outdoor smoking area and a few\n",
       "cheap looking inflatable palm trees. Also I am getting my buddy to bring his collection of really old CRT TV's and \n",
       "his collection of obscure japanese fighting and rpg games from the 1990's on old game systems\n",
       "\n",
       "[Vapor Wave Decor - Etsy](https://www.etsy.com/market/vapor_wave_decor)\n",
       "Check out our vapor wave decor selection for the very best in unique or custom, handmade pieces from our wall \n",
       "hangings shops.\n",
       "\n",
       "[94 Vaporwave party ideas | vaporwave, neon aesthetic ... - \n",
       "Pinterest](https://www.pinterest.com/marina5289/vaporwave-party/)\n",
       "Sep 24, 2017 - Explore Marina Rodrigues's board \"Vaporwave party\" on Pinterest. See more ideas about vaporwave, \n",
       "neon aesthetic, vaporwave aesthetic.\n",
       "\n",
       "[Create a Memorable Vaporwave Party with These Ideas - \n",
       "Pinterest](https://www.pinterest.com/ideas/vaporwave-party/951940746961/)\n",
       "Transform your event into a nostalgic and stylish vaporwave party. Explore top ideas to set the perfect ambiance \n",
       "and make your guests groove to the retro beats.\n",
       "\n",
       "[Amazon.com : vaporwave](https://www.amazon.com/s?k=vaporwave)\n",
       "Vaporwave Stickers for Water Bottle and Laptop - Vaporwave Party Favors & Decorations, Waterproof Vinyl Decals, \n",
       "Aesthetic and Retro Stickers. 4.2 out of 5 stars 2,940. Price, product page $6.99 $ 6. 99. FREE delivery Wed, Apr \n",
       "30 on $35 of items shipped by Amazon. Add to cart +436. ILNP Cosmetics, Inc.\n",
       "\n",
       "[12 Vaporwave party ideas | vaporwave, artificial plants outdoor \n",
       "...](https://www.pinterest.com/germanethelmerman/vaporwave-party/)\n",
       "Aug 8, 2018 - Explore Wheezy Christine's board \"vaporwave party\" on Pinterest. See more ideas about vaporwave, \n",
       "artificial plants outdoor, planting flowers.\n",
       "## Search Results\n",
       "\n",
       "[How can I make my Vaporwave party more e s t h e t i \n",
       "c](https://www.reddit.com/r/Vaporwave/comments/17x4e3e/how_can_i_make_my_vaporwave_party_more_e_s_t_h_e/)\n",
       "Hey guys! I am throwing a Vaporwave themed party and I wanted yalls take on how I can make it better and more a e s\n",
       "t h e t i c. So here's what I'm doing: 3 DJ's. One of them is a Future Funk Idol Group and then I have one spinning\n",
       "Vaporwave and one spinning Darkwave\n",
       "\n",
       "[Create a Memorable Vaporwave Party with These Ideas - \n",
       "Pinterest](https://www.pinterest.com/ideas/vaporwave-party/951940746961/)\n",
       "Transform your event into a nostalgic and stylish vaporwave party. Explore top ideas to set the perfect ambiance \n",
       "and make your guests groove to the retro beats.\n",
       "\n",
       "[Late Night Lights II - A Late Night Lo-Fi & Vaporwave Fest](https://latenightlofi.com/)\n",
       "With nearly 90 vaporwave and late night lo fi musicians and video artists, this will be an experience to remember \n",
       "🙏 This is a FULL DAY two day event, with each day starting at 11:00AM EST and running to around 1AM EST, with an \n",
       "after party slotted to follow on each day, hosted by All Hell Breaks Loops, and Pocari Online. Headliners for the \n",
       "...\n",
       "\n",
       "[Ideas for Vaporwave Birthday Party : r/Vaporwave - \n",
       "Reddit](https://www.reddit.com/r/Vaporwave/comments/4l0z2v/ideas_for_vaporwave_birthday_party/)\n",
       "Hello humans. I'm attempting to throw a 21st Vaporwave-themed birthday party and I was wondering if you had any \n",
       "novel drink/decor/clothing ideas. I doubt people have vaporwave shirts so I thought I could tell guests to wear \n",
       "80s/90s inspired clothing. I have LED and blacklights on deck but it's really hard to find fake palm trees and the \n",
       "like.\n",
       "\n",
       "[Vaporwave News Network](https://www.vaporwavenewsnetwork.com/)\n",
       "Vote Now: Best Vaporwave and Future Funk of 2024 Show Review: Yoi Toki Single Release Party (feat. Macross 82-99) \n",
       "at the Teragram Ballroom, Los Angeles Best Future Funk of 2023 DJ Mix Research Interviews: luxury elite & Keith \n",
       "Rankin (Giant Claw, DDS, Orange Milk Records)\n",
       "\n",
       "[How a vaporwave party starts : r/VaporwaveAesthetics - \n",
       "Reddit](https://www.reddit.com/r/VaporwaveAesthetics/comments/7apq0f/how_a_vaporwave_party_starts/)\n",
       "Posted by u/zerotonothing - 2,071 votes and 57 comments\n",
       "\n",
       "[94 Vaporwave party ideas | vaporwave, neon aesthetic ... - \n",
       "Pinterest](https://www.pinterest.com/marina5289/vaporwave-party/)\n",
       "Sep 24, 2017 - Explore Marina Rodrigues's board \"Vaporwave party\" on Pinterest. See more ideas about vaporwave, \n",
       "neon aesthetic, vaporwave aesthetic.\n",
       "\n",
       "[Yoi Toki: A Future Funk / Vaporwave Party - The \n",
       "Masquerade](https://www.masqueradeatlanta.com/attraction/yoi-toki/)\n",
       "Future Funk is a Vaporwave subgenre that emerged around 2010 (championed by artists such as Yung Bae, Night Tempo \n",
       "and Macross 82-99) it uses elements of Funk and Disco combined with Japanese City Pop influences, resulting in a \n",
       "sound that is upbeat, insanely danceable and very funky. Future Funk's aesthetic is a mix of nostalgic […]\n",
       "\n",
       "[140 Vaporwave party ideas | vaporwave, vaporwave aesthetic ... - \n",
       "Pinterest](https://www.pinterest.com/nataliesetfree/vaporwave-party/)\n",
       "Apr 14, 2018 - Explore Natalie Harper's board \"vaporwave party\" on Pinterest. See more ideas about vaporwave, \n",
       "vaporwave aesthetic, vaporwave art.\n",
       "\n",
       "[ElectroniCON 3 - The Knockdown Center](https://knockdown.center/event/electronicon-3/)\n",
       "After a two year hiatus, the legendary vaporwave festival ElectroniCON returns for its third and largest IRL \n",
       "gathering to date, where it all started - Brooklyn, NY at Knockdown Center on Aug 20, 2022. Featuring performances \n",
       "by George Clanton, Washed Out (DJ), Neon Indian (DJ), death's dynamic shroud, Neggy Gemmy, Saint Pepsi, Cowgirl \n",
       "Clue ...\n",
       "## Search Results\n",
       "\n",
       "[How can I make my Vaporwave party more e s t h e t i \n",
       "c](https://www.reddit.com/r/Vaporwave/comments/17x4e3e/how_can_i_make_my_vaporwave_party_more_e_s_t_h_e/)\n",
       "Hey guys! I am throwing a Vaporwave themed party and I wanted yalls take on how I can make it better and more a e s\n",
       "t h e t i c. So here's what I'm doing: 3 DJ's. One of them is a Future Funk Idol Group and then I have one spinning\n",
       "Vaporwave and one spinning Darkwave\n",
       "\n",
       "[Create a Memorable Vaporwave Party with These Ideas - \n",
       "Pinterest](https://www.pinterest.com/ideas/vaporwave-party/951940746961/)\n",
       "Transform your event into a nostalgic and stylish vaporwave party. Explore top ideas to set the perfect ambiance \n",
       "and make your guests groove to the retro beats.\n",
       "\n",
       "[94 Vaporwave party ideas | vaporwave, neon aesthetic ... - \n",
       "Pinterest](https://www.pinterest.com/marina5289/vaporwave-party/)\n",
       "Sep 24, 2017 - Explore Marina Rodrigues's board \"Vaporwave party\" on Pinterest. See more ideas about vaporwave, \n",
       "neon aesthetic, vaporwave aesthetic.\n",
       "\n",
       "[Ideas for Vaporwave Birthday Party : r/Vaporwave - \n",
       "Reddit](https://www.reddit.com/r/Vaporwave/comments/4l0z2v/ideas_for_vaporwave_birthday_party/)\n",
       "Hello humans. I'm attempting to throw a 21st Vaporwave-themed birthday party and I was wondering if you had any \n",
       "novel drink/decor/clothing ideas. I doubt people have vaporwave shirts so I thought I could tell guests to wear \n",
       "80s/90s inspired clothing. I have LED and blacklights on deck but it's really hard to find fake palm trees and the \n",
       "like.\n",
       "\n",
       "[How a vaporwave party starts : r/VaporwaveAesthetics - \n",
       "Reddit](https://www.reddit.com/r/VaporwaveAesthetics/comments/7apq0f/how_a_vaporwave_party_starts/)\n",
       "Posted by u/zerotonothing - 2,071 votes and 57 comments\n",
       "\n",
       "[140 Vaporwave party ideas | vaporwave, vaporwave aesthetic ... - \n",
       "Pinterest](https://www.pinterest.com/nataliesetfree/vaporwave-party/)\n",
       "Apr 14, 2018 - Explore Natalie Harper's board \"vaporwave party\" on Pinterest. See more ideas about vaporwave, \n",
       "vaporwave aesthetic, vaporwave art.\n",
       "\n",
       "[Vaporwave Party - Etsy](https://www.etsy.com/market/vaporwave_party)\n",
       "Check out our vaporwave party selection for the very best in unique or custom, handmade pieces from our invitations\n",
       "shops.\n",
       "\n",
       "[Top Catering Services In Hong Kong For Kids' Parties & More - Sassy \n",
       "Mama](https://www.sassymamahk.com/sassy-mamas-roundup-of-top-caterers-in-hong-kong/)\n",
       "Calling all busy Mamas! If you're in need of seamless catering service for any occasions, big or small, the \n",
       "award-winning Shamrock Catering has you sorted. Hong Kong's longest-running caterers have been tried, tested and \n",
       "trusted since 1994 to whip up delicious spreads for everything from kids' birthday bashes (with special kid's \n",
       "menus) to glam cocktail parties, mouthwatering BBQs ...\n",
       "\n",
       "[Famous Dave's BBQ Catering](https://www.famousdaves.com/catering)\n",
       "Famous Dave's full service catering is perfect for large parties, corporate events, and weddings! Our trained \n",
       "catering team will bring everything - including buffet tables*, tablecloths*, and chafing dishes. We'll set up \n",
       "buffet lines as needed and can either serve your guests, or let them do self-serve.\n",
       "\n",
       "[Top Hong Kong Catering Services For Party Wow \n",
       "Factor](https://www.sassyhongkong.com/eat-drink-catering-companies-food-events-private-dining/)\n",
       "Bain Marie - No-fuss, zero-waste food catering services. Is it your turn to organise the next corporate lunch or \n",
       "dinner with friends? Leave the cooking and cleaning to the pros at Bain Marie.Simply place your order at least 48 \n",
       "hours in advance and have it delivered to you fresh on the day in plastic-free packaging.The food is prepared on \n",
       "the day by the in-house culinary team using tried-and ...\n",
       "\n",
       "Out: None\n"
      ]
     },
     "metadata": {},
     "output_type": "display_data"
    },
    {
     "data": {
      "text/html": [
       "<pre style=\"white-space:pre;overflow-x:auto;line-height:normal;font-family:Menlo,'DejaVu Sans Mono',consolas,'Courier New',monospace\"><span style=\"color: #7f7f7f; text-decoration-color: #7f7f7f\">[Step 3: Duration 34.07 seconds| Input tokens: 7,554 | Output tokens: 1,026]</span>\n",
       "</pre>\n"
      ],
      "text/plain": [
       "\u001b[2m[Step 3: Duration 34.07 seconds| Input tokens: 7,554 | Output tokens: 1,026]\u001b[0m\n"
      ]
     },
     "metadata": {},
     "output_type": "display_data"
    },
    {
     "data": {
      "text/html": [
       "<pre style=\"white-space:pre;overflow-x:auto;line-height:normal;font-family:Menlo,'DejaVu Sans Mono',consolas,'Courier New',monospace\"><span style=\"color: #d4b702; text-decoration-color: #d4b702\">━━━━━━━━━━━━━━━━━━━━━━━━━━━━━━━━━━━━━━━━━━━━━━━━━━━━━ </span><span style=\"font-weight: bold\">Step </span><span style=\"color: #008080; text-decoration-color: #008080; font-weight: bold\">4</span><span style=\"color: #d4b702; text-decoration-color: #d4b702\"> ━━━━━━━━━━━━━━━━━━━━━━━━━━━━━━━━━━━━━━━━━━━━━━━━━━━━━━</span>\n",
       "</pre>\n"
      ],
      "text/plain": [
       "\u001b[38;2;212;183;2m━━━━━━━━━━━━━━━━━━━━━━━━━━━━━━━━━━━━━━━━━━━━━━━━━━━━━ \u001b[0m\u001b[1mStep \u001b[0m\u001b[1;36m4\u001b[0m\u001b[38;2;212;183;2m ━━━━━━━━━━━━━━━━━━━━━━━━━━━━━━━━━━━━━━━━━━━━━━━━━━━━━━\u001b[0m\n"
      ]
     },
     "metadata": {},
     "output_type": "display_data"
    },
    {
     "data": {
      "text/html": [
       "<pre style=\"white-space:pre;overflow-x:auto;line-height:normal;font-family:Menlo,'DejaVu Sans Mono',consolas,'Courier New',monospace\"> ─ <span style=\"font-weight: bold\">Executing parsed code:</span> ──────────────────────────────────────────────────────────────────────────────────────── \n",
       "  <span style=\"color: #f8f8f2; text-decoration-color: #f8f8f2; background-color: #272822\">final_answer({</span><span style=\"background-color: #272822\">                                                                                                 </span>  \n",
       "  <span style=\"color: #f8f8f2; text-decoration-color: #f8f8f2; background-color: #272822\">    </span><span style=\"color: #e6db74; text-decoration-color: #e6db74; background-color: #272822\">\"color_style\"</span><span style=\"color: #f8f8f2; text-decoration-color: #f8f8f2; background-color: #272822\">: </span><span style=\"color: #e6db74; text-decoration-color: #e6db74; background-color: #272822\">\"Vaporwave color schemes feature pastel hues (e.g., #ff71ce, #01cdfe) and neon colors. </span><span style=\"background-color: #272822\">     </span>  \n",
       "  <span style=\"color: #e6db74; text-decoration-color: #e6db74; background-color: #272822\">Popular palettes include Cybermist, Dreampink, NeonAqua, and VirtualRose.\"</span><span style=\"color: #f8f8f2; text-decoration-color: #f8f8f2; background-color: #272822\">,</span><span style=\"background-color: #272822\">                                    </span>  \n",
       "  <span style=\"color: #f8f8f2; text-decoration-color: #f8f8f2; background-color: #272822\">    </span><span style=\"color: #e6db74; text-decoration-color: #e6db74; background-color: #272822\">\"decorations\"</span><span style=\"color: #f8f8f2; text-decoration-color: #f8f8f2; background-color: #272822\">: </span><span style=\"color: #e6db74; text-decoration-color: #e6db74; background-color: #272822\">\"Use neon lights, retro electronics (CRT TVs), inflatable decor (dolphins, palm trees), and </span>  \n",
       "  <span style=\"color: #e6db74; text-decoration-color: #e6db74; background-color: #272822\">vinyl records. Etsy offers unique items like lighted cassette centerpieces. Amazon sells waterproof vaporwave </span><span style=\"background-color: #272822\"> </span>  \n",
       "  <span style=\"color: #e6db74; text-decoration-color: #e6db74; background-color: #272822\">stickers for laptops/water bottles.\"</span><span style=\"color: #f8f8f2; text-decoration-color: #f8f8f2; background-color: #272822\">,</span><span style=\"background-color: #272822\">                                                                          </span>  \n",
       "  <span style=\"color: #f8f8f2; text-decoration-color: #f8f8f2; background-color: #272822\">    </span><span style=\"color: #e6db74; text-decoration-color: #e6db74; background-color: #272822\">\"entertainment\"</span><span style=\"color: #f8f8f2; text-decoration-color: #f8f8f2; background-color: #272822\">: </span><span style=\"color: #e6db74; text-decoration-color: #e6db74; background-color: #272822\">\"Play vaporwave/Future Funk music (artists: Yung Bae, Macross 82-99). Host DJ sets with </span><span style=\"background-color: #272822\">  </span>  \n",
       "  <span style=\"color: #e6db74; text-decoration-color: #e6db74; background-color: #272822\">lo-fi beats. Include retro gaming stations with 90s-era consoles and Japanese RPGs.\"</span><span style=\"color: #f8f8f2; text-decoration-color: #f8f8f2; background-color: #272822\">,</span><span style=\"background-color: #272822\">                          </span>  \n",
       "  <span style=\"color: #f8f8f2; text-decoration-color: #f8f8f2; background-color: #272822\">    </span><span style=\"color: #e6db74; text-decoration-color: #e6db74; background-color: #272822\">\"catering\"</span><span style=\"color: #f8f8f2; text-decoration-color: #f8f8f2; background-color: #272822\">: </span><span style=\"color: #e6db74; text-decoration-color: #e6db74; background-color: #272822\">\"Serve themed drinks like 'cyberpunk cocktails' with neon-colored beverages. Offer </span><span style=\"background-color: #272822\">            </span>  \n",
       "  <span style=\"color: #e6db74; text-decoration-color: #e6db74; background-color: #272822\">80s/90s-inspired snacks (e.g., retro candies, sushi rolls). Use LED-lit tableware for a glowing effect.\"</span><span style=\"background-color: #272822\">       </span>  \n",
       "  <span style=\"color: #f8f8f2; text-decoration-color: #f8f8f2; background-color: #272822\">})</span><span style=\"background-color: #272822\">                                                                                                             </span>  \n",
       " ───────────────────────────────────────────────────────────────────────────────────────────────────────────────── \n",
       "</pre>\n"
      ],
      "text/plain": [
       " ─ \u001b[1mExecuting parsed code:\u001b[0m ──────────────────────────────────────────────────────────────────────────────────────── \n",
       "  \u001b[38;2;248;248;242;48;2;39;40;34mfinal_answer\u001b[0m\u001b[38;2;248;248;242;48;2;39;40;34m(\u001b[0m\u001b[38;2;248;248;242;48;2;39;40;34m{\u001b[0m\u001b[48;2;39;40;34m                                                                                                 \u001b[0m  \n",
       "  \u001b[38;2;248;248;242;48;2;39;40;34m    \u001b[0m\u001b[38;2;230;219;116;48;2;39;40;34m\"\u001b[0m\u001b[38;2;230;219;116;48;2;39;40;34mcolor_style\u001b[0m\u001b[38;2;230;219;116;48;2;39;40;34m\"\u001b[0m\u001b[38;2;248;248;242;48;2;39;40;34m:\u001b[0m\u001b[38;2;248;248;242;48;2;39;40;34m \u001b[0m\u001b[38;2;230;219;116;48;2;39;40;34m\"\u001b[0m\u001b[38;2;230;219;116;48;2;39;40;34mVaporwave color schemes feature pastel hues (e.g., #ff71ce, #01cdfe) and neon colors. \u001b[0m\u001b[48;2;39;40;34m     \u001b[0m  \n",
       "  \u001b[38;2;230;219;116;48;2;39;40;34mPopular palettes include Cybermist, Dreampink, NeonAqua, and VirtualRose.\u001b[0m\u001b[38;2;230;219;116;48;2;39;40;34m\"\u001b[0m\u001b[38;2;248;248;242;48;2;39;40;34m,\u001b[0m\u001b[48;2;39;40;34m                                    \u001b[0m  \n",
       "  \u001b[38;2;248;248;242;48;2;39;40;34m    \u001b[0m\u001b[38;2;230;219;116;48;2;39;40;34m\"\u001b[0m\u001b[38;2;230;219;116;48;2;39;40;34mdecorations\u001b[0m\u001b[38;2;230;219;116;48;2;39;40;34m\"\u001b[0m\u001b[38;2;248;248;242;48;2;39;40;34m:\u001b[0m\u001b[38;2;248;248;242;48;2;39;40;34m \u001b[0m\u001b[38;2;230;219;116;48;2;39;40;34m\"\u001b[0m\u001b[38;2;230;219;116;48;2;39;40;34mUse neon lights, retro electronics (CRT TVs), inflatable decor (dolphins, palm trees), and \u001b[0m  \n",
       "  \u001b[38;2;230;219;116;48;2;39;40;34mvinyl records. Etsy offers unique items like lighted cassette centerpieces. Amazon sells waterproof vaporwave \u001b[0m\u001b[48;2;39;40;34m \u001b[0m  \n",
       "  \u001b[38;2;230;219;116;48;2;39;40;34mstickers for laptops/water bottles.\u001b[0m\u001b[38;2;230;219;116;48;2;39;40;34m\"\u001b[0m\u001b[38;2;248;248;242;48;2;39;40;34m,\u001b[0m\u001b[48;2;39;40;34m                                                                          \u001b[0m  \n",
       "  \u001b[38;2;248;248;242;48;2;39;40;34m    \u001b[0m\u001b[38;2;230;219;116;48;2;39;40;34m\"\u001b[0m\u001b[38;2;230;219;116;48;2;39;40;34mentertainment\u001b[0m\u001b[38;2;230;219;116;48;2;39;40;34m\"\u001b[0m\u001b[38;2;248;248;242;48;2;39;40;34m:\u001b[0m\u001b[38;2;248;248;242;48;2;39;40;34m \u001b[0m\u001b[38;2;230;219;116;48;2;39;40;34m\"\u001b[0m\u001b[38;2;230;219;116;48;2;39;40;34mPlay vaporwave/Future Funk music (artists: Yung Bae, Macross 82-99). Host DJ sets with \u001b[0m\u001b[48;2;39;40;34m  \u001b[0m  \n",
       "  \u001b[38;2;230;219;116;48;2;39;40;34mlo-fi beats. Include retro gaming stations with 90s-era consoles and Japanese RPGs.\u001b[0m\u001b[38;2;230;219;116;48;2;39;40;34m\"\u001b[0m\u001b[38;2;248;248;242;48;2;39;40;34m,\u001b[0m\u001b[48;2;39;40;34m                          \u001b[0m  \n",
       "  \u001b[38;2;248;248;242;48;2;39;40;34m    \u001b[0m\u001b[38;2;230;219;116;48;2;39;40;34m\"\u001b[0m\u001b[38;2;230;219;116;48;2;39;40;34mcatering\u001b[0m\u001b[38;2;230;219;116;48;2;39;40;34m\"\u001b[0m\u001b[38;2;248;248;242;48;2;39;40;34m:\u001b[0m\u001b[38;2;248;248;242;48;2;39;40;34m \u001b[0m\u001b[38;2;230;219;116;48;2;39;40;34m\"\u001b[0m\u001b[38;2;230;219;116;48;2;39;40;34mServe themed drinks like \u001b[0m\u001b[38;2;230;219;116;48;2;39;40;34m'\u001b[0m\u001b[38;2;230;219;116;48;2;39;40;34mcyberpunk cocktails\u001b[0m\u001b[38;2;230;219;116;48;2;39;40;34m'\u001b[0m\u001b[38;2;230;219;116;48;2;39;40;34m with neon-colored beverages. Offer \u001b[0m\u001b[48;2;39;40;34m            \u001b[0m  \n",
       "  \u001b[38;2;230;219;116;48;2;39;40;34m80s/90s-inspired snacks (e.g., retro candies, sushi rolls). Use LED-lit tableware for a glowing effect.\u001b[0m\u001b[38;2;230;219;116;48;2;39;40;34m\"\u001b[0m\u001b[48;2;39;40;34m       \u001b[0m  \n",
       "  \u001b[38;2;248;248;242;48;2;39;40;34m}\u001b[0m\u001b[38;2;248;248;242;48;2;39;40;34m)\u001b[0m\u001b[48;2;39;40;34m                                                                                                             \u001b[0m  \n",
       " ───────────────────────────────────────────────────────────────────────────────────────────────────────────────── \n"
      ]
     },
     "metadata": {},
     "output_type": "display_data"
    },
    {
     "data": {
      "text/html": [
       "<pre style=\"white-space:pre;overflow-x:auto;line-height:normal;font-family:Menlo,'DejaVu Sans Mono',consolas,'Courier New',monospace\"><span style=\"color: #d4b702; text-decoration-color: #d4b702; font-weight: bold\">Out - Final answer: {'color_style': 'Vaporwave color schemes feature pastel hues (e.g., #ff71ce, #01cdfe) and neon </span>\n",
       "<span style=\"color: #d4b702; text-decoration-color: #d4b702; font-weight: bold\">colors. Popular palettes include Cybermist, Dreampink, NeonAqua, and VirtualRose.', 'decorations': 'Use neon </span>\n",
       "<span style=\"color: #d4b702; text-decoration-color: #d4b702; font-weight: bold\">lights, retro electronics (CRT TVs), inflatable decor (dolphins, palm trees), and vinyl records. Etsy offers unique</span>\n",
       "<span style=\"color: #d4b702; text-decoration-color: #d4b702; font-weight: bold\">items like lighted cassette centerpieces. Amazon sells waterproof vaporwave stickers for laptops/water bottles.', </span>\n",
       "<span style=\"color: #d4b702; text-decoration-color: #d4b702; font-weight: bold\">'entertainment': 'Play vaporwave/Future Funk music (artists: Yung Bae, Macross 82-99). Host DJ sets with lo-fi </span>\n",
       "<span style=\"color: #d4b702; text-decoration-color: #d4b702; font-weight: bold\">beats. Include retro gaming stations with 90s-era consoles and Japanese RPGs.', 'catering': \"Serve themed drinks </span>\n",
       "<span style=\"color: #d4b702; text-decoration-color: #d4b702; font-weight: bold\">like 'cyberpunk cocktails' with neon-colored beverages. Offer 80s/90s-inspired snacks (e.g., retro candies, sushi </span>\n",
       "<span style=\"color: #d4b702; text-decoration-color: #d4b702; font-weight: bold\">rolls). Use LED-lit tableware for a glowing effect.\"}</span>\n",
       "</pre>\n"
      ],
      "text/plain": [
       "\u001b[1;38;2;212;183;2mOut - Final answer: {'color_style': 'Vaporwave color schemes feature pastel hues (e.g., #ff71ce, #01cdfe) and neon \u001b[0m\n",
       "\u001b[1;38;2;212;183;2mcolors. Popular palettes include Cybermist, Dreampink, NeonAqua, and VirtualRose.', 'decorations': 'Use neon \u001b[0m\n",
       "\u001b[1;38;2;212;183;2mlights, retro electronics (CRT TVs), inflatable decor (dolphins, palm trees), and vinyl records. Etsy offers unique\u001b[0m\n",
       "\u001b[1;38;2;212;183;2mitems like lighted cassette centerpieces. Amazon sells waterproof vaporwave stickers for laptops/water bottles.', \u001b[0m\n",
       "\u001b[1;38;2;212;183;2m'entertainment': 'Play vaporwave/Future Funk music (artists: Yung Bae, Macross 82-99). Host DJ sets with lo-fi \u001b[0m\n",
       "\u001b[1;38;2;212;183;2mbeats. Include retro gaming stations with 90s-era consoles and Japanese RPGs.', 'catering': \"Serve themed drinks \u001b[0m\n",
       "\u001b[1;38;2;212;183;2mlike 'cyberpunk cocktails' with neon-colored beverages. Offer 80s/90s-inspired snacks (e.g., retro candies, sushi \u001b[0m\n",
       "\u001b[1;38;2;212;183;2mrolls). Use LED-lit tableware for a glowing effect.\"}\u001b[0m\n"
      ]
     },
     "metadata": {},
     "output_type": "display_data"
    },
    {
     "data": {
      "text/html": [
       "<pre style=\"white-space:pre;overflow-x:auto;line-height:normal;font-family:Menlo,'DejaVu Sans Mono',consolas,'Courier New',monospace\"><span style=\"color: #7f7f7f; text-decoration-color: #7f7f7f\">[Step 4: Duration 58.64 seconds| Input tokens: 13,905 | Output tokens: 1,566]</span>\n",
       "</pre>\n"
      ],
      "text/plain": [
       "\u001b[2m[Step 4: Duration 58.64 seconds| Input tokens: 13,905 | Output tokens: 1,566]\u001b[0m\n"
      ]
     },
     "metadata": {},
     "output_type": "display_data"
    }
   ],
   "source": [
    "from smolagents import CodeAgent, DuckDuckGoSearchTool, LiteLLMModel\n",
    "\n",
    "# Initialize search tool\n",
    "search_tool = DuckDuckGoSearchTool()\n",
    "\n",
    "# Initialize model\n",
    "model = LiteLLMModel(\n",
    "    model_id=\"ollama_chat/qwen3:8b\",\n",
    "    api_base=\"http://127.0.0.1:11434\",  # Default Ollama local server\n",
    "    num_ctx=8192,\n",
    ")\n",
    "\n",
    "# Initialize agent\n",
    "agent = CodeAgent(\n",
    "    tools=[search_tool], \n",
    "    model=model\n",
    ")\n",
    "\n",
    "# Example usage\n",
    "response = agent.run(\"Search vaporwave-themed party ideas, including color style, decorations, entertainment, and catering.\")"
   ]
  },
  {
   "cell_type": "code",
   "execution_count": 17,
   "id": "ebe7cc58",
   "metadata": {},
   "outputs": [
    {
     "data": {
      "text/plain": [
       "{'color_style': 'Vaporwave color schemes feature pastel hues (e.g., #ff71ce, #01cdfe) and neon colors. Popular palettes include Cybermist, Dreampink, NeonAqua, and VirtualRose.',\n",
       " 'decorations': 'Use neon lights, retro electronics (CRT TVs), inflatable decor (dolphins, palm trees), and vinyl records. Etsy offers unique items like lighted cassette centerpieces. Amazon sells waterproof vaporwave stickers for laptops/water bottles.',\n",
       " 'entertainment': 'Play vaporwave/Future Funk music (artists: Yung Bae, Macross 82-99). Host DJ sets with lo-fi beats. Include retro gaming stations with 90s-era consoles and Japanese RPGs.',\n",
       " 'catering': \"Serve themed drinks like 'cyberpunk cocktails' with neon-colored beverages. Offer 80s/90s-inspired snacks (e.g., retro candies, sushi rolls). Use LED-lit tableware for a glowing effect.\"}"
      ]
     },
     "execution_count": 17,
     "metadata": {},
     "output_type": "execute_result"
    }
   ],
   "source": [
    "response"
   ]
  },
  {
   "cell_type": "markdown",
   "id": "fea1b70c",
   "metadata": {},
   "source": [
    "The agent followed this process:\n",
    "\n",
    "1. Analyzes the Request\n",
    "2. Performs Retrieval\n",
    "3. Synthesizes Information\n",
    "4. Stores for Future Reference"
   ]
  },
  {
   "cell_type": "markdown",
   "id": "f5c08bf8",
   "metadata": {},
   "source": [
    "## Custom Knowledge Base Tool\n",
    "For specialized tasks, a custom knowledge base can be invaluable. Let's create a tool that queries a **vector database** of technical documentation or specialized knowledge. \n",
    "\n",
    "This approach combines predefined knowledge with **semantic search** to provide context-aware solutions for event planning. "
   ]
  },
  {
   "cell_type": "code",
   "execution_count": 3,
   "id": "74c10b0e",
   "metadata": {},
   "outputs": [
    {
     "name": "stdout",
     "output_type": "stream",
     "text": [
      "Requirement already satisfied: langchain-community in /Library/Frameworks/Python.framework/Versions/3.12/lib/python3.12/site-packages (0.3.24)\n",
      "Collecting rank_bm25\n",
      "  Downloading rank_bm25-0.2.2-py3-none-any.whl.metadata (3.2 kB)\n",
      "Requirement already satisfied: langchain-core<1.0.0,>=0.3.59 in /Library/Frameworks/Python.framework/Versions/3.12/lib/python3.12/site-packages (from langchain-community) (0.3.59)\n",
      "Requirement already satisfied: langchain<1.0.0,>=0.3.25 in /Library/Frameworks/Python.framework/Versions/3.12/lib/python3.12/site-packages (from langchain-community) (0.3.25)\n",
      "Requirement already satisfied: SQLAlchemy<3,>=1.4 in /Library/Frameworks/Python.framework/Versions/3.12/lib/python3.12/site-packages (from langchain-community) (2.0.40)\n",
      "Requirement already satisfied: requests<3,>=2 in /Library/Frameworks/Python.framework/Versions/3.12/lib/python3.12/site-packages (from langchain-community) (2.32.3)\n",
      "Requirement already satisfied: PyYAML>=5.3 in /Library/Frameworks/Python.framework/Versions/3.12/lib/python3.12/site-packages (from langchain-community) (6.0.1)\n",
      "Requirement already satisfied: aiohttp<4.0.0,>=3.8.3 in /Library/Frameworks/Python.framework/Versions/3.12/lib/python3.12/site-packages (from langchain-community) (3.11.18)\n",
      "Requirement already satisfied: tenacity!=8.4.0,<10,>=8.1.0 in /Library/Frameworks/Python.framework/Versions/3.12/lib/python3.12/site-packages (from langchain-community) (9.0.0)\n",
      "Requirement already satisfied: dataclasses-json<0.7,>=0.5.7 in /Library/Frameworks/Python.framework/Versions/3.12/lib/python3.12/site-packages (from langchain-community) (0.6.7)\n",
      "Requirement already satisfied: pydantic-settings<3.0.0,>=2.4.0 in /Library/Frameworks/Python.framework/Versions/3.12/lib/python3.12/site-packages (from langchain-community) (2.9.1)\n",
      "Requirement already satisfied: langsmith<0.4,>=0.1.125 in /Library/Frameworks/Python.framework/Versions/3.12/lib/python3.12/site-packages (from langchain-community) (0.3.42)\n",
      "Requirement already satisfied: httpx-sse<1.0.0,>=0.4.0 in /Library/Frameworks/Python.framework/Versions/3.12/lib/python3.12/site-packages (from langchain-community) (0.4.0)\n",
      "Requirement already satisfied: numpy>=1.26.2 in /Library/Frameworks/Python.framework/Versions/3.12/lib/python3.12/site-packages (from langchain-community) (1.26.2)\n",
      "Requirement already satisfied: aiohappyeyeballs>=2.3.0 in /Library/Frameworks/Python.framework/Versions/3.12/lib/python3.12/site-packages (from aiohttp<4.0.0,>=3.8.3->langchain-community) (2.6.1)\n",
      "Requirement already satisfied: aiosignal>=1.1.2 in /Library/Frameworks/Python.framework/Versions/3.12/lib/python3.12/site-packages (from aiohttp<4.0.0,>=3.8.3->langchain-community) (1.3.2)\n",
      "Requirement already satisfied: attrs>=17.3.0 in /Library/Frameworks/Python.framework/Versions/3.12/lib/python3.12/site-packages (from aiohttp<4.0.0,>=3.8.3->langchain-community) (23.2.0)\n",
      "Requirement already satisfied: frozenlist>=1.1.1 in /Library/Frameworks/Python.framework/Versions/3.12/lib/python3.12/site-packages (from aiohttp<4.0.0,>=3.8.3->langchain-community) (1.6.0)\n",
      "Requirement already satisfied: multidict<7.0,>=4.5 in /Library/Frameworks/Python.framework/Versions/3.12/lib/python3.12/site-packages (from aiohttp<4.0.0,>=3.8.3->langchain-community) (6.4.3)\n",
      "Requirement already satisfied: propcache>=0.2.0 in /Library/Frameworks/Python.framework/Versions/3.12/lib/python3.12/site-packages (from aiohttp<4.0.0,>=3.8.3->langchain-community) (0.3.1)\n",
      "Requirement already satisfied: yarl<2.0,>=1.17.0 in /Library/Frameworks/Python.framework/Versions/3.12/lib/python3.12/site-packages (from aiohttp<4.0.0,>=3.8.3->langchain-community) (1.20.0)\n",
      "Requirement already satisfied: marshmallow<4.0.0,>=3.18.0 in /Library/Frameworks/Python.framework/Versions/3.12/lib/python3.12/site-packages (from dataclasses-json<0.7,>=0.5.7->langchain-community) (3.26.1)\n",
      "Requirement already satisfied: typing-inspect<1,>=0.4.0 in /Library/Frameworks/Python.framework/Versions/3.12/lib/python3.12/site-packages (from dataclasses-json<0.7,>=0.5.7->langchain-community) (0.9.0)\n",
      "Requirement already satisfied: langchain-text-splitters<1.0.0,>=0.3.8 in /Library/Frameworks/Python.framework/Versions/3.12/lib/python3.12/site-packages (from langchain<1.0.0,>=0.3.25->langchain-community) (0.3.8)\n",
      "Requirement already satisfied: pydantic<3.0.0,>=2.7.4 in /Library/Frameworks/Python.framework/Versions/3.12/lib/python3.12/site-packages (from langchain<1.0.0,>=0.3.25->langchain-community) (2.11.4)\n",
      "Requirement already satisfied: jsonpatch<2.0,>=1.33 in /Library/Frameworks/Python.framework/Versions/3.12/lib/python3.12/site-packages (from langchain-core<1.0.0,>=0.3.59->langchain-community) (1.33)\n",
      "Requirement already satisfied: packaging<25,>=23.2 in /Users/karen/Library/Python/3.12/lib/python/site-packages (from langchain-core<1.0.0,>=0.3.59->langchain-community) (24.2)\n",
      "Requirement already satisfied: typing-extensions>=4.7 in /Library/Frameworks/Python.framework/Versions/3.12/lib/python3.12/site-packages (from langchain-core<1.0.0,>=0.3.59->langchain-community) (4.12.2)\n",
      "Requirement already satisfied: jsonpointer>=1.9 in /Library/Frameworks/Python.framework/Versions/3.12/lib/python3.12/site-packages (from jsonpatch<2.0,>=1.33->langchain-core<1.0.0,>=0.3.59->langchain-community) (3.0.0)\n",
      "Requirement already satisfied: httpx<1,>=0.23.0 in /Library/Frameworks/Python.framework/Versions/3.12/lib/python3.12/site-packages (from langsmith<0.4,>=0.1.125->langchain-community) (0.28.1)\n",
      "Requirement already satisfied: orjson<4.0.0,>=3.9.14 in /Library/Frameworks/Python.framework/Versions/3.12/lib/python3.12/site-packages (from langsmith<0.4,>=0.1.125->langchain-community) (3.10.18)\n",
      "Requirement already satisfied: requests-toolbelt<2.0.0,>=1.0.0 in /Library/Frameworks/Python.framework/Versions/3.12/lib/python3.12/site-packages (from langsmith<0.4,>=0.1.125->langchain-community) (1.0.0)\n",
      "Requirement already satisfied: zstandard<0.24.0,>=0.23.0 in /Library/Frameworks/Python.framework/Versions/3.12/lib/python3.12/site-packages (from langsmith<0.4,>=0.1.125->langchain-community) (0.23.0)\n",
      "Requirement already satisfied: anyio in /Library/Frameworks/Python.framework/Versions/3.12/lib/python3.12/site-packages (from httpx<1,>=0.23.0->langsmith<0.4,>=0.1.125->langchain-community) (4.9.0)\n",
      "Requirement already satisfied: certifi in /Library/Frameworks/Python.framework/Versions/3.12/lib/python3.12/site-packages (from httpx<1,>=0.23.0->langsmith<0.4,>=0.1.125->langchain-community) (2023.11.17)\n",
      "Requirement already satisfied: httpcore==1.* in /Library/Frameworks/Python.framework/Versions/3.12/lib/python3.12/site-packages (from httpx<1,>=0.23.0->langsmith<0.4,>=0.1.125->langchain-community) (1.0.5)\n",
      "Requirement already satisfied: idna in /Library/Frameworks/Python.framework/Versions/3.12/lib/python3.12/site-packages (from httpx<1,>=0.23.0->langsmith<0.4,>=0.1.125->langchain-community) (3.10)\n",
      "Requirement already satisfied: h11<0.15,>=0.13 in /Library/Frameworks/Python.framework/Versions/3.12/lib/python3.12/site-packages (from httpcore==1.*->httpx<1,>=0.23.0->langsmith<0.4,>=0.1.125->langchain-community) (0.14.0)\n",
      "Requirement already satisfied: annotated-types>=0.6.0 in /Library/Frameworks/Python.framework/Versions/3.12/lib/python3.12/site-packages (from pydantic<3.0.0,>=2.7.4->langchain<1.0.0,>=0.3.25->langchain-community) (0.7.0)\n",
      "Requirement already satisfied: pydantic-core==2.33.2 in /Library/Frameworks/Python.framework/Versions/3.12/lib/python3.12/site-packages (from pydantic<3.0.0,>=2.7.4->langchain<1.0.0,>=0.3.25->langchain-community) (2.33.2)\n",
      "Requirement already satisfied: typing-inspection>=0.4.0 in /Library/Frameworks/Python.framework/Versions/3.12/lib/python3.12/site-packages (from pydantic<3.0.0,>=2.7.4->langchain<1.0.0,>=0.3.25->langchain-community) (0.4.0)\n",
      "Requirement already satisfied: python-dotenv>=0.21.0 in /Library/Frameworks/Python.framework/Versions/3.12/lib/python3.12/site-packages (from pydantic-settings<3.0.0,>=2.4.0->langchain-community) (1.0.1)\n",
      "Requirement already satisfied: charset-normalizer<4,>=2 in /Library/Frameworks/Python.framework/Versions/3.12/lib/python3.12/site-packages (from requests<3,>=2->langchain-community) (3.3.2)\n",
      "Requirement already satisfied: urllib3<3,>=1.21.1 in /Library/Frameworks/Python.framework/Versions/3.12/lib/python3.12/site-packages (from requests<3,>=2->langchain-community) (1.26.20)\n",
      "Requirement already satisfied: mypy-extensions>=0.3.0 in /Library/Frameworks/Python.framework/Versions/3.12/lib/python3.12/site-packages (from typing-inspect<1,>=0.4.0->dataclasses-json<0.7,>=0.5.7->langchain-community) (1.1.0)\n",
      "Requirement already satisfied: sniffio>=1.1 in /Library/Frameworks/Python.framework/Versions/3.12/lib/python3.12/site-packages (from anyio->httpx<1,>=0.23.0->langsmith<0.4,>=0.1.125->langchain-community) (1.3.1)\n",
      "Downloading rank_bm25-0.2.2-py3-none-any.whl (8.6 kB)\n",
      "Installing collected packages: rank_bm25\n",
      "Successfully installed rank_bm25-0.2.2\n"
     ]
    }
   ],
   "source": [
    "!pip install langchain-community rank_bm25"
   ]
  },
  {
   "cell_type": "code",
   "execution_count": null,
   "id": "867cfeac",
   "metadata": {},
   "outputs": [],
   "source": [
    "from langchain.docstore.document import Document\n",
    "from langchain.text_splitter import RecursiveCharacterTextSplitter\n",
    "from langchain_community.retrievers import BM25Retriever\n",
    "from smolagents import Tool\n",
    "\n",
    "# Create `Tool` class\n",
    "class PartyPlanningRetrieverTool(Tool):\n",
    "    name = \"party_planning_retriever\"\n",
    "    description = \"Uses semantic search to retrieve relevant party planning ideas for the vaporwave-themed party.\"\n",
    "    inputs = {\n",
    "        \"query\": {\n",
    "            \"type\": \"string\", \n",
    "            \"description\": \"The query to perform. This should be a query related to vaporwave-themed party planning.\"\n",
    "        }\n",
    "    }\n",
    "    output_type = \"string\"\n",
    "\n",
    "    def __init__(self, docs, **kwargs):\n",
    "        super().__init__(**kwargs)\n",
    "        self.retriever = BM25Retriever.from_documents(docs, k=5)  # Retrieve top 5 documents\n",
    "\n",
    "    def forward(self, query: str) -> str:\n",
    "        assert isinstance(query, str), \"Search query must be a string.\"\n",
    "\n",
    "        docs = self.retriever.invoke(query)\n",
    "\n",
    "        return \"\\nRetrieved ideas:\\n\" + \"\".join(\n",
    "            [\n",
    "                f\"\\n\\n==== Idea {str(i+1)} ====\\n\" + doc.page_content for i, doc in enumerate(docs)\n",
    "            ]\n",
    "        )"
   ]
  },
  {
   "cell_type": "code",
   "execution_count": 5,
   "id": "cf7e4a14",
   "metadata": {},
   "outputs": [],
   "source": [
    "# Simulate a knowledge base about vaporwave-themed party planning\n",
    "party_ideas = [\n",
    "    {\"text\": \"A neon-lit venue with pink, blue, and purple lighting to create a retro-futuristic atmosphere.\", \"source\": \"Lighting Ideas\"},\n",
    "    {\"text\": \"Play a mix of synthwave, chillwave, and vaporwave music to set the mood.\", \"source\": \"Music Ideas\"},\n",
    "    {\"text\": \"Set up vintage CRT TVs playing retro commercials and anime from the 80s and 90s.\", \"source\": \"Decor Ideas\"},\n",
    "    {\"text\": \"Serve drinks in glassware with Greek statues or palm tree motifs.\", \"source\": \"Drink Ideas\"},\n",
    "    {\"text\": \"Create a photo booth with vaporwave-themed props like sunglasses, palm leaves, and retro tech.\", \"source\": \"Photo Ideas\"},\n",
    "    {\"text\": \"Use holographic and iridescent decorations to enhance the futuristic feel.\", \"source\": \"Decor Ideas\"},\n",
    "    {\"text\": \"Offer a menu with futuristic names like 'Neon Dream Punch' and 'Cyber Palm Sliders'.\", \"source\": \"Food Ideas\"},\n",
    "    {\"text\": \"Set up a chill-out zone with bean bags and low tables for guests to relax and enjoy the vibe.\", \"source\": \"Lounge Ideas\"},\n",
    "    {\"text\": \"Project slow-motion videos of sunsets, beaches, and cityscapes on the walls.\", \"source\": \"Visual Ideas\"},\n",
    "    {\"text\": \"Provide glow sticks and LED accessories for guests to wear and enhance the neon aesthetic.\", \"source\": \"Accessory Ideas\"}\n",
    "]"
   ]
  },
  {
   "cell_type": "code",
   "execution_count": null,
   "id": "f09ca64f",
   "metadata": {},
   "outputs": [],
   "source": [
    "# Create `Document` object\n",
    "source_docs = [\n",
    "    Document(\n",
    "        page_content=doc[\"text\"], \n",
    "        metadata={\"source\": doc[\"source\"]}\n",
    "    ) for doc in party_ideas\n",
    "]"
   ]
  },
  {
   "cell_type": "code",
   "execution_count": 8,
   "id": "7f5c7606",
   "metadata": {},
   "outputs": [
    {
     "data": {
      "text/plain": [
       "[Document(metadata={'source': 'Lighting Ideas'}, page_content='A neon-lit venue with pink, blue, and purple lighting to create a retro-futuristic atmosphere.'),\n",
       " Document(metadata={'source': 'Music Ideas'}, page_content='Play a mix of synthwave, chillwave, and vaporwave music to set the mood.'),\n",
       " Document(metadata={'source': 'Decor Ideas'}, page_content='Set up vintage CRT TVs playing retro commercials and anime from the 80s and 90s.'),\n",
       " Document(metadata={'source': 'Drink Ideas'}, page_content='Serve drinks in glassware with Greek statues or palm tree motifs.'),\n",
       " Document(metadata={'source': 'Photo Ideas'}, page_content='Create a photo booth with vaporwave-themed props like sunglasses, palm leaves, and retro tech.'),\n",
       " Document(metadata={'source': 'Decor Ideas'}, page_content='Use holographic and iridescent decorations to enhance the futuristic feel.'),\n",
       " Document(metadata={'source': 'Food Ideas'}, page_content=\"Offer a menu with futuristic names like 'Neon Dream Punch' and 'Cyber Palm Sliders'.\"),\n",
       " Document(metadata={'source': 'Lounge Ideas'}, page_content='Set up a chill-out zone with bean bags and low tables for guests to relax and enjoy the vibe.'),\n",
       " Document(metadata={'source': 'Visual Ideas'}, page_content='Project slow-motion videos of sunsets, beaches, and cityscapes on the walls.'),\n",
       " Document(metadata={'source': 'Accessory Ideas'}, page_content='Provide glow sticks and LED accessories for guests to wear and enhance the neon aesthetic.')]"
      ]
     },
     "execution_count": 8,
     "metadata": {},
     "output_type": "execute_result"
    }
   ],
   "source": [
    "source_docs"
   ]
  },
  {
   "cell_type": "code",
   "execution_count": 9,
   "id": "fcf7010a",
   "metadata": {},
   "outputs": [],
   "source": [
    "# Split the documents into smaller chunks for more efficient search\n",
    "text_splitter = RecursiveCharacterTextSplitter(\n",
    "    chunk_size=500, \n",
    "    chunk_overlap=50, \n",
    "    add_start_index=True, \n",
    "    strip_whitespace=True, \n",
    "    separators=[\"\\n\\n\", \"\\n\", \".\", \" \", \"\"],\n",
    ")"
   ]
  },
  {
   "cell_type": "code",
   "execution_count": 10,
   "id": "59dc5486",
   "metadata": {},
   "outputs": [
    {
     "data": {
      "text/plain": [
       "<langchain_text_splitters.character.RecursiveCharacterTextSplitter at 0x31313ddc0>"
      ]
     },
     "execution_count": 10,
     "metadata": {},
     "output_type": "execute_result"
    }
   ],
   "source": [
    "text_splitter"
   ]
  },
  {
   "cell_type": "code",
   "execution_count": 11,
   "id": "f09903c1",
   "metadata": {},
   "outputs": [],
   "source": [
    "docs_processed = text_splitter.split_documents(source_docs)"
   ]
  },
  {
   "cell_type": "code",
   "execution_count": 12,
   "id": "31213fdd",
   "metadata": {},
   "outputs": [
    {
     "data": {
      "text/plain": [
       "[Document(metadata={'source': 'Lighting Ideas', 'start_index': 0}, page_content='A neon-lit venue with pink, blue, and purple lighting to create a retro-futuristic atmosphere.'),\n",
       " Document(metadata={'source': 'Music Ideas', 'start_index': 0}, page_content='Play a mix of synthwave, chillwave, and vaporwave music to set the mood.'),\n",
       " Document(metadata={'source': 'Decor Ideas', 'start_index': 0}, page_content='Set up vintage CRT TVs playing retro commercials and anime from the 80s and 90s.'),\n",
       " Document(metadata={'source': 'Drink Ideas', 'start_index': 0}, page_content='Serve drinks in glassware with Greek statues or palm tree motifs.'),\n",
       " Document(metadata={'source': 'Photo Ideas', 'start_index': 0}, page_content='Create a photo booth with vaporwave-themed props like sunglasses, palm leaves, and retro tech.'),\n",
       " Document(metadata={'source': 'Decor Ideas', 'start_index': 0}, page_content='Use holographic and iridescent decorations to enhance the futuristic feel.'),\n",
       " Document(metadata={'source': 'Food Ideas', 'start_index': 0}, page_content=\"Offer a menu with futuristic names like 'Neon Dream Punch' and 'Cyber Palm Sliders'.\"),\n",
       " Document(metadata={'source': 'Lounge Ideas', 'start_index': 0}, page_content='Set up a chill-out zone with bean bags and low tables for guests to relax and enjoy the vibe.'),\n",
       " Document(metadata={'source': 'Visual Ideas', 'start_index': 0}, page_content='Project slow-motion videos of sunsets, beaches, and cityscapes on the walls.'),\n",
       " Document(metadata={'source': 'Accessory Ideas', 'start_index': 0}, page_content='Provide glow sticks and LED accessories for guests to wear and enhance the neon aesthetic.')]"
      ]
     },
     "execution_count": 12,
     "metadata": {},
     "output_type": "execute_result"
    }
   ],
   "source": [
    "docs_processed"
   ]
  },
  {
   "cell_type": "code",
   "execution_count": 13,
   "id": "a3e58243",
   "metadata": {},
   "outputs": [
    {
     "data": {
      "text/plain": [
       "list"
      ]
     },
     "execution_count": 13,
     "metadata": {},
     "output_type": "execute_result"
    }
   ],
   "source": [
    "type(docs_processed)"
   ]
  },
  {
   "cell_type": "code",
   "execution_count": 14,
   "id": "deed81da",
   "metadata": {},
   "outputs": [],
   "source": [
    "# Create retriever tool\n",
    "party_planning_retriever = PartyPlanningRetrieverTool(docs_processed)"
   ]
  },
  {
   "cell_type": "code",
   "execution_count": 15,
   "id": "23af59ae",
   "metadata": {},
   "outputs": [
    {
     "data": {
      "text/plain": [
       "<__main__.PartyPlanningRetrieverTool at 0x31419fc80>"
      ]
     },
     "execution_count": 15,
     "metadata": {},
     "output_type": "execute_result"
    }
   ],
   "source": [
    "party_planning_retriever"
   ]
  },
  {
   "cell_type": "code",
   "execution_count": 16,
   "id": "7580b1dc",
   "metadata": {},
   "outputs": [],
   "source": [
    "# Initialize model\n",
    "model = LiteLLMModel(\n",
    "    model_id=\"ollama_chat/qwen3:8b\",\n",
    "    api_base=\"http://127.0.0.1:11434\",  # Default Ollama local server\n",
    "    num_ctx=8192,\n",
    ")\n",
    "\n",
    "# Initialize agent\n",
    "agent = CodeAgent(\n",
    "    tools=[party_planning_retriever], \n",
    "    model=model\n",
    ")"
   ]
  },
  {
   "cell_type": "code",
   "execution_count": 18,
   "id": "dceeeffe",
   "metadata": {},
   "outputs": [
    {
     "data": {
      "text/html": [
       "<pre style=\"white-space:pre;overflow-x:auto;line-height:normal;font-family:Menlo,'DejaVu Sans Mono',consolas,'Courier New',monospace\"><span style=\"color: #d4b702; text-decoration-color: #d4b702\">╭──────────────────────────────────────────────────── </span><span style=\"color: #d4b702; text-decoration-color: #d4b702; font-weight: bold\">New run</span><span style=\"color: #d4b702; text-decoration-color: #d4b702\"> ────────────────────────────────────────────────────╮</span>\n",
       "<span style=\"color: #d4b702; text-decoration-color: #d4b702\">│</span>                                                                                                                 <span style=\"color: #d4b702; text-decoration-color: #d4b702\">│</span>\n",
       "<span style=\"color: #d4b702; text-decoration-color: #d4b702\">│</span> <span style=\"font-weight: bold\">Find ideas for a vaporwave-themed party, including lighting, music, photo, deco and color ideas.</span>                <span style=\"color: #d4b702; text-decoration-color: #d4b702\">│</span>\n",
       "<span style=\"color: #d4b702; text-decoration-color: #d4b702\">│</span>                                                                                                                 <span style=\"color: #d4b702; text-decoration-color: #d4b702\">│</span>\n",
       "<span style=\"color: #d4b702; text-decoration-color: #d4b702\">╰─ LiteLLMModel - ollama_chat/qwen3:8b ───────────────────────────────────────────────────────────────────────────╯</span>\n",
       "</pre>\n"
      ],
      "text/plain": [
       "\u001b[38;2;212;183;2m╭─\u001b[0m\u001b[38;2;212;183;2m───────────────────────────────────────────────────\u001b[0m\u001b[38;2;212;183;2m \u001b[0m\u001b[1;38;2;212;183;2mNew run\u001b[0m\u001b[38;2;212;183;2m \u001b[0m\u001b[38;2;212;183;2m───────────────────────────────────────────────────\u001b[0m\u001b[38;2;212;183;2m─╮\u001b[0m\n",
       "\u001b[38;2;212;183;2m│\u001b[0m                                                                                                                 \u001b[38;2;212;183;2m│\u001b[0m\n",
       "\u001b[38;2;212;183;2m│\u001b[0m \u001b[1mFind ideas for a vaporwave-themed party, including lighting, music, photo, deco and color ideas.\u001b[0m                \u001b[38;2;212;183;2m│\u001b[0m\n",
       "\u001b[38;2;212;183;2m│\u001b[0m                                                                                                                 \u001b[38;2;212;183;2m│\u001b[0m\n",
       "\u001b[38;2;212;183;2m╰─\u001b[0m\u001b[38;2;212;183;2m LiteLLMModel - ollama_chat/qwen3:8b \u001b[0m\u001b[38;2;212;183;2m──────────────────────────────────────────────────────────────────────────\u001b[0m\u001b[38;2;212;183;2m─╯\u001b[0m\n"
      ]
     },
     "metadata": {},
     "output_type": "display_data"
    },
    {
     "data": {
      "text/html": [
       "<pre style=\"white-space:pre;overflow-x:auto;line-height:normal;font-family:Menlo,'DejaVu Sans Mono',consolas,'Courier New',monospace\"><span style=\"color: #d4b702; text-decoration-color: #d4b702\">━━━━━━━━━━━━━━━━━━━━━━━━━━━━━━━━━━━━━━━━━━━━━━━━━━━━━ </span><span style=\"font-weight: bold\">Step </span><span style=\"color: #008080; text-decoration-color: #008080; font-weight: bold\">1</span><span style=\"color: #d4b702; text-decoration-color: #d4b702\"> ━━━━━━━━━━━━━━━━━━━━━━━━━━━━━━━━━━━━━━━━━━━━━━━━━━━━━━</span>\n",
       "</pre>\n"
      ],
      "text/plain": [
       "\u001b[38;2;212;183;2m━━━━━━━━━━━━━━━━━━━━━━━━━━━━━━━━━━━━━━━━━━━━━━━━━━━━━ \u001b[0m\u001b[1mStep \u001b[0m\u001b[1;36m1\u001b[0m\u001b[38;2;212;183;2m ━━━━━━━━━━━━━━━━━━━━━━━━━━━━━━━━━━━━━━━━━━━━━━━━━━━━━━\u001b[0m\n"
      ]
     },
     "metadata": {},
     "output_type": "display_data"
    },
    {
     "data": {
      "text/html": [
       "<pre style=\"white-space:pre;overflow-x:auto;line-height:normal;font-family:Menlo,'DejaVu Sans Mono',consolas,'Courier New',monospace\"> ─ <span style=\"font-weight: bold\">Executing parsed code:</span> ──────────────────────────────────────────────────────────────────────────────────────── \n",
       "  <span style=\"color: #f8f8f2; text-decoration-color: #f8f8f2; background-color: #272822\">vaporwave_ideas </span><span style=\"color: #ff4689; text-decoration-color: #ff4689; background-color: #272822\">=</span><span style=\"color: #f8f8f2; text-decoration-color: #f8f8f2; background-color: #272822\"> party_planning_retriever(query</span><span style=\"color: #ff4689; text-decoration-color: #ff4689; background-color: #272822\">=</span><span style=\"color: #e6db74; text-decoration-color: #e6db74; background-color: #272822\">\"vaporwave-themed party ideas including lighting, music, </span><span style=\"background-color: #272822\">     </span>  \n",
       "  <span style=\"color: #e6db74; text-decoration-color: #e6db74; background-color: #272822\">photo, decor, and color suggestions\"</span><span style=\"color: #f8f8f2; text-decoration-color: #f8f8f2; background-color: #272822\">)</span><span style=\"background-color: #272822\">                                                                          </span>  \n",
       "  <span style=\"color: #f8f8f2; text-decoration-color: #f8f8f2; background-color: #272822\">print(vaporwave_ideas)</span><span style=\"background-color: #272822\">                                                                                         </span>  \n",
       " ───────────────────────────────────────────────────────────────────────────────────────────────────────────────── \n",
       "</pre>\n"
      ],
      "text/plain": [
       " ─ \u001b[1mExecuting parsed code:\u001b[0m ──────────────────────────────────────────────────────────────────────────────────────── \n",
       "  \u001b[38;2;248;248;242;48;2;39;40;34mvaporwave_ideas\u001b[0m\u001b[38;2;248;248;242;48;2;39;40;34m \u001b[0m\u001b[38;2;255;70;137;48;2;39;40;34m=\u001b[0m\u001b[38;2;248;248;242;48;2;39;40;34m \u001b[0m\u001b[38;2;248;248;242;48;2;39;40;34mparty_planning_retriever\u001b[0m\u001b[38;2;248;248;242;48;2;39;40;34m(\u001b[0m\u001b[38;2;248;248;242;48;2;39;40;34mquery\u001b[0m\u001b[38;2;255;70;137;48;2;39;40;34m=\u001b[0m\u001b[38;2;230;219;116;48;2;39;40;34m\"\u001b[0m\u001b[38;2;230;219;116;48;2;39;40;34mvaporwave-themed party ideas including lighting, music, \u001b[0m\u001b[48;2;39;40;34m     \u001b[0m  \n",
       "  \u001b[38;2;230;219;116;48;2;39;40;34mphoto, decor, and color suggestions\u001b[0m\u001b[38;2;230;219;116;48;2;39;40;34m\"\u001b[0m\u001b[38;2;248;248;242;48;2;39;40;34m)\u001b[0m\u001b[48;2;39;40;34m                                                                          \u001b[0m  \n",
       "  \u001b[38;2;248;248;242;48;2;39;40;34mprint\u001b[0m\u001b[38;2;248;248;242;48;2;39;40;34m(\u001b[0m\u001b[38;2;248;248;242;48;2;39;40;34mvaporwave_ideas\u001b[0m\u001b[38;2;248;248;242;48;2;39;40;34m)\u001b[0m\u001b[48;2;39;40;34m                                                                                         \u001b[0m  \n",
       " ───────────────────────────────────────────────────────────────────────────────────────────────────────────────── \n"
      ]
     },
     "metadata": {},
     "output_type": "display_data"
    },
    {
     "data": {
      "text/html": [
       "<pre style=\"white-space:pre;overflow-x:auto;line-height:normal;font-family:Menlo,'DejaVu Sans Mono',consolas,'Courier New',monospace\"><span style=\"font-weight: bold\">Execution logs:</span>\n",
       "\n",
       "Retrieved ideas:\n",
       "\n",
       "\n",
       "==== Idea 0 ====\n",
       "Create a photo booth with vaporwave-themed props like sunglasses, palm leaves, and retro tech.\n",
       "\n",
       "==== Idea 1 ====\n",
       "Provide glow sticks and LED accessories for guests to wear and enhance the neon aesthetic.\n",
       "\n",
       "==== Idea 2 ====\n",
       "Set up vintage CRT TVs playing retro commercials and anime from the 80s and 90s.\n",
       "\n",
       "==== Idea 3 ====\n",
       "Set up a chill-out zone with bean bags and low tables for guests to relax and enjoy the vibe.\n",
       "\n",
       "==== Idea 4 ====\n",
       "Use holographic and iridescent decorations to enhance the futuristic feel.\n",
       "\n",
       "Out: None\n",
       "</pre>\n"
      ],
      "text/plain": [
       "\u001b[1mExecution logs:\u001b[0m\n",
       "\n",
       "Retrieved ideas:\n",
       "\n",
       "\n",
       "==== Idea 0 ====\n",
       "Create a photo booth with vaporwave-themed props like sunglasses, palm leaves, and retro tech.\n",
       "\n",
       "==== Idea 1 ====\n",
       "Provide glow sticks and LED accessories for guests to wear and enhance the neon aesthetic.\n",
       "\n",
       "==== Idea 2 ====\n",
       "Set up vintage CRT TVs playing retro commercials and anime from the 80s and 90s.\n",
       "\n",
       "==== Idea 3 ====\n",
       "Set up a chill-out zone with bean bags and low tables for guests to relax and enjoy the vibe.\n",
       "\n",
       "==== Idea 4 ====\n",
       "Use holographic and iridescent decorations to enhance the futuristic feel.\n",
       "\n",
       "Out: None\n"
      ]
     },
     "metadata": {},
     "output_type": "display_data"
    },
    {
     "data": {
      "text/html": [
       "<pre style=\"white-space:pre;overflow-x:auto;line-height:normal;font-family:Menlo,'DejaVu Sans Mono',consolas,'Courier New',monospace\"><span style=\"color: #7f7f7f; text-decoration-color: #7f7f7f\">[Step 1: Duration 46.11 seconds| Input tokens: 2,065 | Output tokens: 502]</span>\n",
       "</pre>\n"
      ],
      "text/plain": [
       "\u001b[2m[Step 1: Duration 46.11 seconds| Input tokens: 2,065 | Output tokens: 502]\u001b[0m\n"
      ]
     },
     "metadata": {},
     "output_type": "display_data"
    },
    {
     "data": {
      "text/html": [
       "<pre style=\"white-space:pre;overflow-x:auto;line-height:normal;font-family:Menlo,'DejaVu Sans Mono',consolas,'Courier New',monospace\"><span style=\"color: #d4b702; text-decoration-color: #d4b702\">━━━━━━━━━━━━━━━━━━━━━━━━━━━━━━━━━━━━━━━━━━━━━━━━━━━━━ </span><span style=\"font-weight: bold\">Step </span><span style=\"color: #008080; text-decoration-color: #008080; font-weight: bold\">2</span><span style=\"color: #d4b702; text-decoration-color: #d4b702\"> ━━━━━━━━━━━━━━━━━━━━━━━━━━━━━━━━━━━━━━━━━━━━━━━━━━━━━━</span>\n",
       "</pre>\n"
      ],
      "text/plain": [
       "\u001b[38;2;212;183;2m━━━━━━━━━━━━━━━━━━━━━━━━━━━━━━━━━━━━━━━━━━━━━━━━━━━━━ \u001b[0m\u001b[1mStep \u001b[0m\u001b[1;36m2\u001b[0m\u001b[38;2;212;183;2m ━━━━━━━━━━━━━━━━━━━━━━━━━━━━━━━━━━━━━━━━━━━━━━━━━━━━━━\u001b[0m\n"
      ]
     },
     "metadata": {},
     "output_type": "display_data"
    },
    {
     "data": {
      "text/html": [
       "<pre style=\"white-space:pre;overflow-x:auto;line-height:normal;font-family:Menlo,'DejaVu Sans Mono',consolas,'Courier New',monospace\"> ─ <span style=\"font-weight: bold\">Executing parsed code:</span> ──────────────────────────────────────────────────────────────────────────────────────── \n",
       "  <span style=\"color: #f8f8f2; text-decoration-color: #f8f8f2; background-color: #272822\">final_answer({</span><span style=\"background-color: #272822\">                                                                                                 </span>  \n",
       "  <span style=\"color: #f8f8f2; text-decoration-color: #f8f8f2; background-color: #272822\">    </span><span style=\"color: #e6db74; text-decoration-color: #e6db74; background-color: #272822\">\"lighting\"</span><span style=\"color: #f8f8f2; text-decoration-color: #f8f8f2; background-color: #272822\">: [</span><span style=\"color: #e6db74; text-decoration-color: #e6db74; background-color: #272822\">\"Glow sticks and LED accessories for a neon aesthetic\"</span><span style=\"color: #f8f8f2; text-decoration-color: #f8f8f2; background-color: #272822\">, </span><span style=\"color: #e6db74; text-decoration-color: #e6db74; background-color: #272822\">\"Holographic and iridescent </span><span style=\"background-color: #272822\">          </span>  \n",
       "  <span style=\"color: #e6db74; text-decoration-color: #e6db74; background-color: #272822\">decorations for a futuristic feel\"</span><span style=\"color: #f8f8f2; text-decoration-color: #f8f8f2; background-color: #272822\">],</span><span style=\"background-color: #272822\">                                                                           </span>  \n",
       "  <span style=\"color: #f8f8f2; text-decoration-color: #f8f8f2; background-color: #272822\">    </span><span style=\"color: #e6db74; text-decoration-color: #e6db74; background-color: #272822\">\"music\"</span><span style=\"color: #f8f8f2; text-decoration-color: #f8f8f2; background-color: #272822\">: [</span><span style=\"color: #e6db74; text-decoration-color: #e6db74; background-color: #272822\">\"Retro commercials and anime from the 80s and 90s played on vintage CRT TVs\"</span><span style=\"color: #f8f8f2; text-decoration-color: #f8f8f2; background-color: #272822\">],</span><span style=\"background-color: #272822\">                   </span>  \n",
       "  <span style=\"color: #f8f8f2; text-decoration-color: #f8f8f2; background-color: #272822\">    </span><span style=\"color: #e6db74; text-decoration-color: #e6db74; background-color: #272822\">\"photo\"</span><span style=\"color: #f8f8f2; text-decoration-color: #f8f8f2; background-color: #272822\">: [</span><span style=\"color: #e6db74; text-decoration-color: #e6db74; background-color: #272822\">\"Photo booth with vaporwave-themed props like sunglasses, palm leaves, and retro tech\"</span><span style=\"color: #f8f8f2; text-decoration-color: #f8f8f2; background-color: #272822\">],</span><span style=\"background-color: #272822\">         </span>  \n",
       "  <span style=\"color: #f8f8f2; text-decoration-color: #f8f8f2; background-color: #272822\">    </span><span style=\"color: #e6db74; text-decoration-color: #e6db74; background-color: #272822\">\"decor\"</span><span style=\"color: #f8f8f2; text-decoration-color: #f8f8f2; background-color: #272822\">: [</span><span style=\"color: #e6db74; text-decoration-color: #e6db74; background-color: #272822\">\"Vintage CRT TVs\"</span><span style=\"color: #f8f8f2; text-decoration-color: #f8f8f2; background-color: #272822\">, </span><span style=\"color: #e6db74; text-decoration-color: #e6db74; background-color: #272822\">\"Chill-out zone with bean bags and low tables\"</span><span style=\"color: #f8f8f2; text-decoration-color: #f8f8f2; background-color: #272822\">],</span><span style=\"background-color: #272822\">                              </span>  \n",
       "  <span style=\"color: #f8f8f2; text-decoration-color: #f8f8f2; background-color: #272822\">    </span><span style=\"color: #e6db74; text-decoration-color: #e6db74; background-color: #272822\">\"colors\"</span><span style=\"color: #f8f8f2; text-decoration-color: #f8f8f2; background-color: #272822\">: [</span><span style=\"color: #e6db74; text-decoration-color: #e6db74; background-color: #272822\">\"Neon and pastel color combinations\"</span><span style=\"color: #f8f8f2; text-decoration-color: #f8f8f2; background-color: #272822\">]</span><span style=\"background-color: #272822\">                                                           </span>  \n",
       "  <span style=\"color: #f8f8f2; text-decoration-color: #f8f8f2; background-color: #272822\">})</span><span style=\"background-color: #272822\">                                                                                                             </span>  \n",
       " ───────────────────────────────────────────────────────────────────────────────────────────────────────────────── \n",
       "</pre>\n"
      ],
      "text/plain": [
       " ─ \u001b[1mExecuting parsed code:\u001b[0m ──────────────────────────────────────────────────────────────────────────────────────── \n",
       "  \u001b[38;2;248;248;242;48;2;39;40;34mfinal_answer\u001b[0m\u001b[38;2;248;248;242;48;2;39;40;34m(\u001b[0m\u001b[38;2;248;248;242;48;2;39;40;34m{\u001b[0m\u001b[48;2;39;40;34m                                                                                                 \u001b[0m  \n",
       "  \u001b[38;2;248;248;242;48;2;39;40;34m    \u001b[0m\u001b[38;2;230;219;116;48;2;39;40;34m\"\u001b[0m\u001b[38;2;230;219;116;48;2;39;40;34mlighting\u001b[0m\u001b[38;2;230;219;116;48;2;39;40;34m\"\u001b[0m\u001b[38;2;248;248;242;48;2;39;40;34m:\u001b[0m\u001b[38;2;248;248;242;48;2;39;40;34m \u001b[0m\u001b[38;2;248;248;242;48;2;39;40;34m[\u001b[0m\u001b[38;2;230;219;116;48;2;39;40;34m\"\u001b[0m\u001b[38;2;230;219;116;48;2;39;40;34mGlow sticks and LED accessories for a neon aesthetic\u001b[0m\u001b[38;2;230;219;116;48;2;39;40;34m\"\u001b[0m\u001b[38;2;248;248;242;48;2;39;40;34m,\u001b[0m\u001b[38;2;248;248;242;48;2;39;40;34m \u001b[0m\u001b[38;2;230;219;116;48;2;39;40;34m\"\u001b[0m\u001b[38;2;230;219;116;48;2;39;40;34mHolographic and iridescent \u001b[0m\u001b[48;2;39;40;34m          \u001b[0m  \n",
       "  \u001b[38;2;230;219;116;48;2;39;40;34mdecorations for a futuristic feel\u001b[0m\u001b[38;2;230;219;116;48;2;39;40;34m\"\u001b[0m\u001b[38;2;248;248;242;48;2;39;40;34m]\u001b[0m\u001b[38;2;248;248;242;48;2;39;40;34m,\u001b[0m\u001b[48;2;39;40;34m                                                                           \u001b[0m  \n",
       "  \u001b[38;2;248;248;242;48;2;39;40;34m    \u001b[0m\u001b[38;2;230;219;116;48;2;39;40;34m\"\u001b[0m\u001b[38;2;230;219;116;48;2;39;40;34mmusic\u001b[0m\u001b[38;2;230;219;116;48;2;39;40;34m\"\u001b[0m\u001b[38;2;248;248;242;48;2;39;40;34m:\u001b[0m\u001b[38;2;248;248;242;48;2;39;40;34m \u001b[0m\u001b[38;2;248;248;242;48;2;39;40;34m[\u001b[0m\u001b[38;2;230;219;116;48;2;39;40;34m\"\u001b[0m\u001b[38;2;230;219;116;48;2;39;40;34mRetro commercials and anime from the 80s and 90s played on vintage CRT TVs\u001b[0m\u001b[38;2;230;219;116;48;2;39;40;34m\"\u001b[0m\u001b[38;2;248;248;242;48;2;39;40;34m]\u001b[0m\u001b[38;2;248;248;242;48;2;39;40;34m,\u001b[0m\u001b[48;2;39;40;34m                   \u001b[0m  \n",
       "  \u001b[38;2;248;248;242;48;2;39;40;34m    \u001b[0m\u001b[38;2;230;219;116;48;2;39;40;34m\"\u001b[0m\u001b[38;2;230;219;116;48;2;39;40;34mphoto\u001b[0m\u001b[38;2;230;219;116;48;2;39;40;34m\"\u001b[0m\u001b[38;2;248;248;242;48;2;39;40;34m:\u001b[0m\u001b[38;2;248;248;242;48;2;39;40;34m \u001b[0m\u001b[38;2;248;248;242;48;2;39;40;34m[\u001b[0m\u001b[38;2;230;219;116;48;2;39;40;34m\"\u001b[0m\u001b[38;2;230;219;116;48;2;39;40;34mPhoto booth with vaporwave-themed props like sunglasses, palm leaves, and retro tech\u001b[0m\u001b[38;2;230;219;116;48;2;39;40;34m\"\u001b[0m\u001b[38;2;248;248;242;48;2;39;40;34m]\u001b[0m\u001b[38;2;248;248;242;48;2;39;40;34m,\u001b[0m\u001b[48;2;39;40;34m         \u001b[0m  \n",
       "  \u001b[38;2;248;248;242;48;2;39;40;34m    \u001b[0m\u001b[38;2;230;219;116;48;2;39;40;34m\"\u001b[0m\u001b[38;2;230;219;116;48;2;39;40;34mdecor\u001b[0m\u001b[38;2;230;219;116;48;2;39;40;34m\"\u001b[0m\u001b[38;2;248;248;242;48;2;39;40;34m:\u001b[0m\u001b[38;2;248;248;242;48;2;39;40;34m \u001b[0m\u001b[38;2;248;248;242;48;2;39;40;34m[\u001b[0m\u001b[38;2;230;219;116;48;2;39;40;34m\"\u001b[0m\u001b[38;2;230;219;116;48;2;39;40;34mVintage CRT TVs\u001b[0m\u001b[38;2;230;219;116;48;2;39;40;34m\"\u001b[0m\u001b[38;2;248;248;242;48;2;39;40;34m,\u001b[0m\u001b[38;2;248;248;242;48;2;39;40;34m \u001b[0m\u001b[38;2;230;219;116;48;2;39;40;34m\"\u001b[0m\u001b[38;2;230;219;116;48;2;39;40;34mChill-out zone with bean bags and low tables\u001b[0m\u001b[38;2;230;219;116;48;2;39;40;34m\"\u001b[0m\u001b[38;2;248;248;242;48;2;39;40;34m]\u001b[0m\u001b[38;2;248;248;242;48;2;39;40;34m,\u001b[0m\u001b[48;2;39;40;34m                              \u001b[0m  \n",
       "  \u001b[38;2;248;248;242;48;2;39;40;34m    \u001b[0m\u001b[38;2;230;219;116;48;2;39;40;34m\"\u001b[0m\u001b[38;2;230;219;116;48;2;39;40;34mcolors\u001b[0m\u001b[38;2;230;219;116;48;2;39;40;34m\"\u001b[0m\u001b[38;2;248;248;242;48;2;39;40;34m:\u001b[0m\u001b[38;2;248;248;242;48;2;39;40;34m \u001b[0m\u001b[38;2;248;248;242;48;2;39;40;34m[\u001b[0m\u001b[38;2;230;219;116;48;2;39;40;34m\"\u001b[0m\u001b[38;2;230;219;116;48;2;39;40;34mNeon and pastel color combinations\u001b[0m\u001b[38;2;230;219;116;48;2;39;40;34m\"\u001b[0m\u001b[38;2;248;248;242;48;2;39;40;34m]\u001b[0m\u001b[48;2;39;40;34m                                                           \u001b[0m  \n",
       "  \u001b[38;2;248;248;242;48;2;39;40;34m}\u001b[0m\u001b[38;2;248;248;242;48;2;39;40;34m)\u001b[0m\u001b[48;2;39;40;34m                                                                                                             \u001b[0m  \n",
       " ───────────────────────────────────────────────────────────────────────────────────────────────────────────────── \n"
      ]
     },
     "metadata": {},
     "output_type": "display_data"
    },
    {
     "data": {
      "text/html": [
       "<pre style=\"white-space:pre;overflow-x:auto;line-height:normal;font-family:Menlo,'DejaVu Sans Mono',consolas,'Courier New',monospace\"><span style=\"color: #d4b702; text-decoration-color: #d4b702; font-weight: bold\">Out - Final answer: {'lighting': ['Glow sticks and LED accessories for a neon aesthetic', 'Holographic and </span>\n",
       "<span style=\"color: #d4b702; text-decoration-color: #d4b702; font-weight: bold\">iridescent decorations for a futuristic feel'], 'music': ['Retro commercials and anime from the 80s and 90s played </span>\n",
       "<span style=\"color: #d4b702; text-decoration-color: #d4b702; font-weight: bold\">on vintage CRT TVs'], 'photo': ['Photo booth with vaporwave-themed props like sunglasses, palm leaves, and retro </span>\n",
       "<span style=\"color: #d4b702; text-decoration-color: #d4b702; font-weight: bold\">tech'], 'decor': ['Vintage CRT TVs', 'Chill-out zone with bean bags and low tables'], 'colors': ['Neon and pastel </span>\n",
       "<span style=\"color: #d4b702; text-decoration-color: #d4b702; font-weight: bold\">color combinations']}</span>\n",
       "</pre>\n"
      ],
      "text/plain": [
       "\u001b[1;38;2;212;183;2mOut - Final answer: {'lighting': ['Glow sticks and LED accessories for a neon aesthetic', 'Holographic and \u001b[0m\n",
       "\u001b[1;38;2;212;183;2miridescent decorations for a futuristic feel'], 'music': ['Retro commercials and anime from the 80s and 90s played \u001b[0m\n",
       "\u001b[1;38;2;212;183;2mon vintage CRT TVs'], 'photo': ['Photo booth with vaporwave-themed props like sunglasses, palm leaves, and retro \u001b[0m\n",
       "\u001b[1;38;2;212;183;2mtech'], 'decor': ['Vintage CRT TVs', 'Chill-out zone with bean bags and low tables'], 'colors': ['Neon and pastel \u001b[0m\n",
       "\u001b[1;38;2;212;183;2mcolor combinations']}\u001b[0m\n"
      ]
     },
     "metadata": {},
     "output_type": "display_data"
    },
    {
     "data": {
      "text/html": [
       "<pre style=\"white-space:pre;overflow-x:auto;line-height:normal;font-family:Menlo,'DejaVu Sans Mono',consolas,'Courier New',monospace\"><span style=\"color: #7f7f7f; text-decoration-color: #7f7f7f\">[Step 2: Duration 28.65 seconds| Input tokens: 4,446 | Output tokens: 999]</span>\n",
       "</pre>\n"
      ],
      "text/plain": [
       "\u001b[2m[Step 2: Duration 28.65 seconds| Input tokens: 4,446 | Output tokens: 999]\u001b[0m\n"
      ]
     },
     "metadata": {},
     "output_type": "display_data"
    }
   ],
   "source": [
    "# Example usage\n",
    "response = agent.run(\"Find ideas for a vaporwave-themed party, including lighting, music, photo, deco and color ideas.\")"
   ]
  },
  {
   "cell_type": "markdown",
   "id": "7c8c7a51",
   "metadata": {},
   "source": [
    "This enhanced agent can:\n",
    "1. First check the documentation for relevant information\n",
    "2. Combine insights from the knowledge base\n",
    "3. Maintain conversation context through memory"
   ]
  },
  {
   "cell_type": "markdown",
   "id": "2e2badbb",
   "metadata": {},
   "source": []
  }
 ],
 "metadata": {
  "kernelspec": {
   "display_name": "Python 3",
   "language": "python",
   "name": "python3"
  },
  "language_info": {
   "codemirror_mode": {
    "name": "ipython",
    "version": 3
   },
   "file_extension": ".py",
   "mimetype": "text/x-python",
   "name": "python",
   "nbconvert_exporter": "python",
   "pygments_lexer": "ipython3",
   "version": "3.12.1"
  }
 },
 "nbformat": 4,
 "nbformat_minor": 5
}
