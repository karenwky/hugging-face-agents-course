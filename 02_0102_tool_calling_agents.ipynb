{
 "cells": [
  {
   "cell_type": "markdown",
   "id": "ae2130aa",
   "metadata": {},
   "source": [
    "This is a follow-along notebook of [Writing actions as code snippets or JSON blobs](https://colab.research.google.com/github/huggingface/agents-course/blob/main/notebooks/unit2/smolagents/tool_calling_agents.ipynb) from <a href=\"https://www.hf.co/learn/agents-course\">Hugging Face Agents Course</a>, with additional trials. "
   ]
  },
  {
   "cell_type": "markdown",
   "id": "36fcd228",
   "metadata": {},
   "source": [
    "# Building Agents That Use JSON Blobs\n",
    "We'll build agent using `ToolCallingAgent`. "
   ]
  },
  {
   "cell_type": "code",
   "execution_count": 1,
   "id": "54e2aa9a",
   "metadata": {},
   "outputs": [],
   "source": [
    "# Import libraries\n",
    "from smolagents import ToolCallingAgent, DuckDuckGoSearchTool, LiteLLMModel"
   ]
  },
  {
   "cell_type": "code",
   "execution_count": 2,
   "id": "b4b8f752",
   "metadata": {},
   "outputs": [],
   "source": [
    "# Load local LLM\n",
    "model = LiteLLMModel(\n",
    "    model_id=\"ollama_chat/qwen3:8b\",\n",
    "    api_base=\"http://127.0.0.1:11434\",  # Default Ollama local server\n",
    "    num_ctx=8192,\n",
    ")"
   ]
  },
  {
   "cell_type": "code",
   "execution_count": 3,
   "id": "4f31efaf",
   "metadata": {},
   "outputs": [],
   "source": [
    "# Initialize agent\n",
    "agent = ToolCallingAgent(\n",
    "    tools=[DuckDuckGoSearchTool()], \n",
    "    model=model\n",
    ")"
   ]
  },
  {
   "cell_type": "code",
   "execution_count": 4,
   "id": "0c15713a",
   "metadata": {},
   "outputs": [
    {
     "data": {
      "text/html": [
       "<pre style=\"white-space:pre;overflow-x:auto;line-height:normal;font-family:Menlo,'DejaVu Sans Mono',consolas,'Courier New',monospace\"><span style=\"color: #d4b702; text-decoration-color: #d4b702\">╭──────────────────────────────────────────────────── </span><span style=\"color: #d4b702; text-decoration-color: #d4b702; font-weight: bold\">New run</span><span style=\"color: #d4b702; text-decoration-color: #d4b702\"> ────────────────────────────────────────────────────╮</span>\n",
       "<span style=\"color: #d4b702; text-decoration-color: #d4b702\">│</span>                                                                                                                 <span style=\"color: #d4b702; text-decoration-color: #d4b702\">│</span>\n",
       "<span style=\"color: #d4b702; text-decoration-color: #d4b702\">│</span> <span style=\"font-weight: bold\">Search for the best music recommendations for a vaporwave-themed party</span>                                          <span style=\"color: #d4b702; text-decoration-color: #d4b702\">│</span>\n",
       "<span style=\"color: #d4b702; text-decoration-color: #d4b702\">│</span>                                                                                                                 <span style=\"color: #d4b702; text-decoration-color: #d4b702\">│</span>\n",
       "<span style=\"color: #d4b702; text-decoration-color: #d4b702\">╰─ LiteLLMModel - ollama_chat/qwen3:8b ───────────────────────────────────────────────────────────────────────────╯</span>\n",
       "</pre>\n"
      ],
      "text/plain": [
       "\u001b[38;2;212;183;2m╭─\u001b[0m\u001b[38;2;212;183;2m───────────────────────────────────────────────────\u001b[0m\u001b[38;2;212;183;2m \u001b[0m\u001b[1;38;2;212;183;2mNew run\u001b[0m\u001b[38;2;212;183;2m \u001b[0m\u001b[38;2;212;183;2m───────────────────────────────────────────────────\u001b[0m\u001b[38;2;212;183;2m─╮\u001b[0m\n",
       "\u001b[38;2;212;183;2m│\u001b[0m                                                                                                                 \u001b[38;2;212;183;2m│\u001b[0m\n",
       "\u001b[38;2;212;183;2m│\u001b[0m \u001b[1mSearch for the best music recommendations for a vaporwave-themed party\u001b[0m                                          \u001b[38;2;212;183;2m│\u001b[0m\n",
       "\u001b[38;2;212;183;2m│\u001b[0m                                                                                                                 \u001b[38;2;212;183;2m│\u001b[0m\n",
       "\u001b[38;2;212;183;2m╰─\u001b[0m\u001b[38;2;212;183;2m LiteLLMModel - ollama_chat/qwen3:8b \u001b[0m\u001b[38;2;212;183;2m──────────────────────────────────────────────────────────────────────────\u001b[0m\u001b[38;2;212;183;2m─╯\u001b[0m\n"
      ]
     },
     "metadata": {},
     "output_type": "display_data"
    },
    {
     "data": {
      "text/html": [
       "<pre style=\"white-space:pre;overflow-x:auto;line-height:normal;font-family:Menlo,'DejaVu Sans Mono',consolas,'Courier New',monospace\"><span style=\"color: #d4b702; text-decoration-color: #d4b702\">━━━━━━━━━━━━━━━━━━━━━━━━━━━━━━━━━━━━━━━━━━━━━━━━━━━━━ </span><span style=\"font-weight: bold\">Step </span><span style=\"color: #008080; text-decoration-color: #008080; font-weight: bold\">1</span><span style=\"color: #d4b702; text-decoration-color: #d4b702\"> ━━━━━━━━━━━━━━━━━━━━━━━━━━━━━━━━━━━━━━━━━━━━━━━━━━━━━━</span>\n",
       "</pre>\n"
      ],
      "text/plain": [
       "\u001b[38;2;212;183;2m━━━━━━━━━━━━━━━━━━━━━━━━━━━━━━━━━━━━━━━━━━━━━━━━━━━━━ \u001b[0m\u001b[1mStep \u001b[0m\u001b[1;36m1\u001b[0m\u001b[38;2;212;183;2m ━━━━━━━━━━━━━━━━━━━━━━━━━━━━━━━━━━━━━━━━━━━━━━━━━━━━━━\u001b[0m\n"
      ]
     },
     "metadata": {},
     "output_type": "display_data"
    },
    {
     "data": {
      "text/html": [
       "<pre style=\"white-space:pre;overflow-x:auto;line-height:normal;font-family:Menlo,'DejaVu Sans Mono',consolas,'Courier New',monospace\">╭─────────────────────────────────────────────────────────────────────────────────────────────────────────────────╮\n",
       "│ Calling tool: 'web_search' with arguments: {'query': 'best vaporwave music recommendations for a party'}        │\n",
       "╰─────────────────────────────────────────────────────────────────────────────────────────────────────────────────╯\n",
       "</pre>\n"
      ],
      "text/plain": [
       "╭─────────────────────────────────────────────────────────────────────────────────────────────────────────────────╮\n",
       "│ Calling tool: 'web_search' with arguments: {'query': 'best vaporwave music recommendations for a party'}        │\n",
       "╰─────────────────────────────────────────────────────────────────────────────────────────────────────────────────╯\n"
      ]
     },
     "metadata": {},
     "output_type": "display_data"
    },
    {
     "data": {
      "text/html": [
       "<pre style=\"white-space:pre;overflow-x:auto;line-height:normal;font-family:Menlo,'DejaVu Sans Mono',consolas,'Courier New',monospace\">Observations: ## Search Results\n",
       "\n",
       "|What are some good vaporwave songs that you would have playing at a \n",
       "party?<span style=\"font-weight: bold\">](</span><span style=\"color: #0000ff; text-decoration-color: #0000ff; text-decoration: underline\">https://www.reddit.com/r/Vaporwave/comments/y5e3zv/what_are_some_good_vaporwave_songs_that_you_would/)</span>\n",
       "Hello, I'm planning to have a party <span style=\"font-weight: bold\">(</span>sometime in the future<span style=\"font-weight: bold\">)</span>, and would like any song recommendations. It could be \n",
       "old/new, slow/fast paced, it doesn't matter. It's been a while since I've listened to vaporwave, but my favorite \n",
       "artists were Macross <span style=\"color: #008080; text-decoration-color: #008080; font-weight: bold\">82</span>-<span style=\"color: #008080; text-decoration-color: #008080; font-weight: bold\">99</span>, Saint Pepsi and Whitewoods. Thanks and have a good day!\n",
       "\n",
       "|I'm new to vaporwave music. Suggest songs to listen? : r/Vaporwave - \n",
       "Reddit<span style=\"font-weight: bold\">](</span><span style=\"color: #0000ff; text-decoration-color: #0000ff; text-decoration: underline\">https://www.reddit.com/r/Vaporwave/comments/qam0bb/im_new_to_vaporwave_music_suggest_songs_to_listen/)</span>\n",
       "Hello, I'm new to vaporwave music. Suggest me the best vaporwave songs you know! I like: SAINT PEPSI - ENJOY \n",
       "YOURSELF SAINT PEPSI - CHERRY PEPSI SAINT PEPSI - dream supreme SAINT PEPSI - Private Caller Macintosh Plus - Boot \n",
       "Macintosh Plus - Lisa Frank <span style=\"color: #008080; text-decoration-color: #008080; font-weight: bold\">420</span>/Modern Computing THOUGHTS - MIDNIGHT Master Stryker - Sony Boogie\n",
       "\n",
       "|Vaporwave Songs: Best Vaporwave Music - Playlist Updated \n",
       "<span style=\"color: #008080; text-decoration-color: #008080; font-weight: bold\">2025</span><span style=\"font-weight: bold\">](</span><span style=\"color: #0000ff; text-decoration-color: #0000ff; text-decoration: underline\">https://www.youtube.com/playlist?list=PLgP_WFDJWjxTRPJtV4DV99lGB92rq5we_)</span>\n",
       "Vaporwave Songs: Best Vaporwave Music - Playlist Updated <span style=\"color: #008080; text-decoration-color: #008080; font-weight: bold\">2025</span> We recommend you to check other playlists or our \n",
       "favorite music charts. If you enjoyed listenin<span style=\"color: #808000; text-decoration-color: #808000\">...</span>\n",
       "\n",
       "|Best Vaporwave Songs - Top <span style=\"color: #008080; text-decoration-color: #008080; font-weight: bold\">100</span> - YouTube \n",
       "Music<span style=\"font-weight: bold\">](</span><span style=\"color: #0000ff; text-decoration-color: #0000ff; text-decoration: underline\">https://music.youtube.com/playlist?list=PLOf8GaHG4cD-FJoCe3AmOjslZ7p6mNDrO)</span>\n",
       "Top <span style=\"color: #008080; text-decoration-color: #008080; font-weight: bold\">100</span>! the essential of VAPORWAVE, as we like it. enjoy it!\n",
       "\n",
       "|Essential Vaporwave songs? Would love to make a Top \n",
       "<span style=\"color: #008080; text-decoration-color: #008080; font-weight: bold\">25</span>.<span style=\"font-weight: bold\">](</span><span style=\"color: #0000ff; text-decoration-color: #0000ff; text-decoration: underline\">https://www.reddit.com/r/Vaporwave/comments/3vslux/essential_vaporwave_songs_would_love_to_make_a/)</span>\n",
       "I have never really come across a list of some of the essential songs of the genre. Compiling a short list of some \n",
       "of the absolute best songs would be a great way to turn people onto the genre. I'm sorry if this has already been \n",
       "done before, but it would be cool to see some of your suggestions. EDIT: Thank you everyone for your suggestions so\n",
       "far.\n",
       "\n",
       "|Best of Vaporwave - playlist by v a p o r w a v e - \n",
       "Spotify<span style=\"font-weight: bold\">](</span><span style=\"color: #0000ff; text-decoration-color: #0000ff; text-decoration: underline\">https://open.spotify.com/playlist/0hVqgjsvz6iMMAmUrG9Jai)</span>\n",
       "Playlist · Best of Vaporwave · <span style=\"color: #008080; text-decoration-color: #008080; font-weight: bold\">36</span> items · <span style=\"color: #008080; text-decoration-color: #008080; font-weight: bold\">81</span> likes. Playlist · v a p o r w a v e · <span style=\"color: #008080; text-decoration-color: #008080; font-weight: bold\">36</span> items · <span style=\"color: #008080; text-decoration-color: #008080; font-weight: bold\">81</span> likes. Playlist · \n",
       "Best of Vaporwave · <span style=\"color: #008080; text-decoration-color: #008080; font-weight: bold\">36</span> items · <span style=\"color: #008080; text-decoration-color: #008080; font-weight: bold\">81</span> likes <span style=\"color: #808000; text-decoration-color: #808000\">...</span> Sign up to get unlimited songs and podcasts with occasional ads. No \n",
       "credit card needed. Sign up free-:--Change progress-:--Change volume. Company. About Jobs For the Record.\n",
       "\n",
       "|Late Night Vaporwave Mix To Set The Mood For Your Pool Party<span style=\"font-weight: bold\">](</span><span style=\"color: #0000ff; text-decoration-color: #0000ff; text-decoration: underline\">https://m.youtube.com/watch?v=qbrVKT8tgGs)</span>\n",
       "A <span style=\"color: #008080; text-decoration-color: #008080; font-weight: bold\">1</span> hour Late Night Vaporwave mix of the best late night Vaporwave tracks. This Vaporwave playlist contains a \n",
       "helping of the best smooth late night Vaporwave<span style=\"color: #808000; text-decoration-color: #808000\">...</span>\n",
       "\n",
       "|the best vaporwave and chillwave songs of all time - \n",
       "Spotify<span style=\"font-weight: bold\">](</span><span style=\"color: #0000ff; text-decoration-color: #0000ff; text-decoration: underline\">https://open.spotify.com/playlist/2RjbYv7kAFo9U0X6wdb6E0)</span>\n",
       "Playlist · the best vaporwave and chillwave songs of all time · <span style=\"color: #008080; text-decoration-color: #008080; font-weight: bold\">31</span> items · 1K saves\n",
       "\n",
       "|Most popular Vaporwave songs of all time - Rate Your \n",
       "Music<span style=\"font-weight: bold\">](</span><span style=\"color: #0000ff; text-decoration-color: #0000ff; text-decoration: underline\">https://rateyourmusic.com/charts/popular/song/all-time/g:vaporwave/)</span>\n",
       "Most popular Vaporwave songs of all time. All time <span style=\"color: #008080; text-decoration-color: #008080; font-weight: bold\">2025</span> <span style=\"color: #008080; text-decoration-color: #008080; font-weight: bold\">2024</span> <span style=\"color: #008080; text-decoration-color: #008080; font-weight: bold\">2023</span> <span style=\"color: #008080; text-decoration-color: #008080; font-weight: bold\">2022</span> 2020s 2010s 2000s 1990s 1980s 1970s 1960s \n",
       "1950s. Weekly: <span style=\"color: #008080; text-decoration-color: #008080; font-weight: bold\">22</span> Apr Daily: <span style=\"color: #008080; text-decoration-color: #008080; font-weight: bold\">24</span> Apr. Prev. <span style=\"color: #008080; text-decoration-color: #008080; font-weight: bold\">1</span> <span style=\"color: #008080; text-decoration-color: #008080; font-weight: bold\">2</span> <span style=\"color: #808000; text-decoration-color: #808000\">...</span> Go to Recommendations Sign in to see recommendations based on \n",
       "your ratings. Add filters. There are unlimited ways to filter charts: You can make a personalized chart based on \n",
       "any <span style=\"color: #808000; text-decoration-color: #808000\">...</span>\n",
       "\n",
       "|Top <span style=\"color: #008080; text-decoration-color: #008080; font-weight: bold\">20</span> Vaporwave Artists and Bands - MusicalHow<span style=\"font-weight: bold\">](</span><span style=\"color: #0000ff; text-decoration-color: #0000ff; text-decoration: underline\">https://www.musicalhow.com/best-vaporwave-artists-and-bands/)</span>\n",
       "Explore the vibrant and nostalgic sounds of vaporwave through a curated list of the <span style=\"color: #008080; text-decoration-color: #008080; font-weight: bold\">20</span> best bands that define this \n",
       "unique genre. From the iconic Macintosh Plus to the innovative creations of Simple Syrup, discover the artists \n",
       "reshaping the landscape of this musical movement. Contents show <span style=\"color: #008080; text-decoration-color: #008080; font-weight: bold\">1</span>. Macintosh Plus <span style=\"color: #008080; text-decoration-color: #008080; font-weight: bold\">2</span>. Saint Pepsi <span style=\"color: #008080; text-decoration-color: #008080; font-weight: bold\">3</span>. Blank Banshee \n",
       "|…<span style=\"font-weight: bold\">]</span>\n",
       "</pre>\n"
      ],
      "text/plain": [
       "Observations: ## Search Results\n",
       "\n",
       "|What are some good vaporwave songs that you would have playing at a \n",
       "party?\u001b[1m]\u001b[0m\u001b[1m(\u001b[0m\u001b[4;94mhttps://www.reddit.com/r/Vaporwave/comments/y5e3zv/what_are_some_good_vaporwave_songs_that_you_would/\u001b[0m\u001b[4;94m)\u001b[0m\n",
       "Hello, I'm planning to have a party \u001b[1m(\u001b[0msometime in the future\u001b[1m)\u001b[0m, and would like any song recommendations. It could be \n",
       "old/new, slow/fast paced, it doesn't matter. It's been a while since I've listened to vaporwave, but my favorite \n",
       "artists were Macross \u001b[1;36m82\u001b[0m-\u001b[1;36m99\u001b[0m, Saint Pepsi and Whitewoods. Thanks and have a good day!\n",
       "\n",
       "|I'm new to vaporwave music. Suggest songs to listen? : r/Vaporwave - \n",
       "Reddit\u001b[1m]\u001b[0m\u001b[1m(\u001b[0m\u001b[4;94mhttps://www.reddit.com/r/Vaporwave/comments/qam0bb/im_new_to_vaporwave_music_suggest_songs_to_listen/\u001b[0m\u001b[4;94m)\u001b[0m\n",
       "Hello, I'm new to vaporwave music. Suggest me the best vaporwave songs you know! I like: SAINT PEPSI - ENJOY \n",
       "YOURSELF SAINT PEPSI - CHERRY PEPSI SAINT PEPSI - dream supreme SAINT PEPSI - Private Caller Macintosh Plus - Boot \n",
       "Macintosh Plus - Lisa Frank \u001b[1;36m420\u001b[0m/Modern Computing THOUGHTS - MIDNIGHT Master Stryker - Sony Boogie\n",
       "\n",
       "|Vaporwave Songs: Best Vaporwave Music - Playlist Updated \n",
       "\u001b[1;36m2025\u001b[0m\u001b[1m]\u001b[0m\u001b[1m(\u001b[0m\u001b[4;94mhttps://www.youtube.com/playlist?\u001b[0m\u001b[4;94mlist\u001b[0m\u001b[4;94m=\u001b[0m\u001b[4;94mPLgP_WFDJWjxTRPJtV4DV99lGB92rq5we_\u001b[0m\u001b[4;94m)\u001b[0m\n",
       "Vaporwave Songs: Best Vaporwave Music - Playlist Updated \u001b[1;36m2025\u001b[0m We recommend you to check other playlists or our \n",
       "favorite music charts. If you enjoyed listenin\u001b[33m...\u001b[0m\n",
       "\n",
       "|Best Vaporwave Songs - Top \u001b[1;36m100\u001b[0m - YouTube \n",
       "Music\u001b[1m]\u001b[0m\u001b[1m(\u001b[0m\u001b[4;94mhttps://music.youtube.com/playlist?\u001b[0m\u001b[4;94mlist\u001b[0m\u001b[4;94m=\u001b[0m\u001b[4;94mPLOf8GaHG4cD\u001b[0m\u001b[4;94m-FJoCe3AmOjslZ7p6mNDrO\u001b[0m\u001b[4;94m)\u001b[0m\n",
       "Top \u001b[1;36m100\u001b[0m! the essential of VAPORWAVE, as we like it. enjoy it!\n",
       "\n",
       "|Essential Vaporwave songs? Would love to make a Top \n",
       "\u001b[1;36m25\u001b[0m.\u001b[1m]\u001b[0m\u001b[1m(\u001b[0m\u001b[4;94mhttps://www.reddit.com/r/Vaporwave/comments/3vslux/essential_vaporwave_songs_would_love_to_make_a/\u001b[0m\u001b[4;94m)\u001b[0m\n",
       "I have never really come across a list of some of the essential songs of the genre. Compiling a short list of some \n",
       "of the absolute best songs would be a great way to turn people onto the genre. I'm sorry if this has already been \n",
       "done before, but it would be cool to see some of your suggestions. EDIT: Thank you everyone for your suggestions so\n",
       "far.\n",
       "\n",
       "|Best of Vaporwave - playlist by v a p o r w a v e - \n",
       "Spotify\u001b[1m]\u001b[0m\u001b[1m(\u001b[0m\u001b[4;94mhttps://open.spotify.com/playlist/0hVqgjsvz6iMMAmUrG9Jai\u001b[0m\u001b[4;94m)\u001b[0m\n",
       "Playlist · Best of Vaporwave · \u001b[1;36m36\u001b[0m items · \u001b[1;36m81\u001b[0m likes. Playlist · v a p o r w a v e · \u001b[1;36m36\u001b[0m items · \u001b[1;36m81\u001b[0m likes. Playlist · \n",
       "Best of Vaporwave · \u001b[1;36m36\u001b[0m items · \u001b[1;36m81\u001b[0m likes \u001b[33m...\u001b[0m Sign up to get unlimited songs and podcasts with occasional ads. No \n",
       "credit card needed. Sign up free-:--Change progress-:--Change volume. Company. About Jobs For the Record.\n",
       "\n",
       "|Late Night Vaporwave Mix To Set The Mood For Your Pool Party\u001b[1m]\u001b[0m\u001b[1m(\u001b[0m\u001b[4;94mhttps://m.youtube.com/watch?\u001b[0m\u001b[4;94mv\u001b[0m\u001b[4;94m=\u001b[0m\u001b[4;94mqbrVKT8tgGs\u001b[0m\u001b[4;94m)\u001b[0m\n",
       "A \u001b[1;36m1\u001b[0m hour Late Night Vaporwave mix of the best late night Vaporwave tracks. This Vaporwave playlist contains a \n",
       "helping of the best smooth late night Vaporwave\u001b[33m...\u001b[0m\n",
       "\n",
       "|the best vaporwave and chillwave songs of all time - \n",
       "Spotify\u001b[1m]\u001b[0m\u001b[1m(\u001b[0m\u001b[4;94mhttps://open.spotify.com/playlist/2RjbYv7kAFo9U0X6wdb6E0\u001b[0m\u001b[4;94m)\u001b[0m\n",
       "Playlist · the best vaporwave and chillwave songs of all time · \u001b[1;36m31\u001b[0m items · 1K saves\n",
       "\n",
       "|Most popular Vaporwave songs of all time - Rate Your \n",
       "Music\u001b[1m]\u001b[0m\u001b[1m(\u001b[0m\u001b[4;94mhttps://rateyourmusic.com/charts/popular/song/all-time/g:vaporwave/\u001b[0m\u001b[4;94m)\u001b[0m\n",
       "Most popular Vaporwave songs of all time. All time \u001b[1;36m2025\u001b[0m \u001b[1;36m2024\u001b[0m \u001b[1;36m2023\u001b[0m \u001b[1;36m2022\u001b[0m 2020s 2010s 2000s 1990s 1980s 1970s 1960s \n",
       "1950s. Weekly: \u001b[1;36m22\u001b[0m Apr Daily: \u001b[1;36m24\u001b[0m Apr. Prev. \u001b[1;36m1\u001b[0m \u001b[1;36m2\u001b[0m \u001b[33m...\u001b[0m Go to Recommendations Sign in to see recommendations based on \n",
       "your ratings. Add filters. There are unlimited ways to filter charts: You can make a personalized chart based on \n",
       "any \u001b[33m...\u001b[0m\n",
       "\n",
       "|Top \u001b[1;36m20\u001b[0m Vaporwave Artists and Bands - MusicalHow\u001b[1m]\u001b[0m\u001b[1m(\u001b[0m\u001b[4;94mhttps://www.musicalhow.com/best-vaporwave-artists-and-bands/\u001b[0m\u001b[4;94m)\u001b[0m\n",
       "Explore the vibrant and nostalgic sounds of vaporwave through a curated list of the \u001b[1;36m20\u001b[0m best bands that define this \n",
       "unique genre. From the iconic Macintosh Plus to the innovative creations of Simple Syrup, discover the artists \n",
       "reshaping the landscape of this musical movement. Contents show \u001b[1;36m1\u001b[0m. Macintosh Plus \u001b[1;36m2\u001b[0m. Saint Pepsi \u001b[1;36m3\u001b[0m. Blank Banshee \n",
       "|…\u001b[1m]\u001b[0m\n"
      ]
     },
     "metadata": {},
     "output_type": "display_data"
    },
    {
     "data": {
      "text/html": [
       "<pre style=\"white-space:pre;overflow-x:auto;line-height:normal;font-family:Menlo,'DejaVu Sans Mono',consolas,'Courier New',monospace\"><span style=\"color: #7f7f7f; text-decoration-color: #7f7f7f\">[Step 1: Duration 38.66 seconds| Input tokens: 1,104 | Output tokens: 475]</span>\n",
       "</pre>\n"
      ],
      "text/plain": [
       "\u001b[2m[Step 1: Duration 38.66 seconds| Input tokens: 1,104 | Output tokens: 475]\u001b[0m\n"
      ]
     },
     "metadata": {},
     "output_type": "display_data"
    },
    {
     "data": {
      "text/html": [
       "<pre style=\"white-space:pre;overflow-x:auto;line-height:normal;font-family:Menlo,'DejaVu Sans Mono',consolas,'Courier New',monospace\"><span style=\"color: #d4b702; text-decoration-color: #d4b702\">━━━━━━━━━━━━━━━━━━━━━━━━━━━━━━━━━━━━━━━━━━━━━━━━━━━━━ </span><span style=\"font-weight: bold\">Step </span><span style=\"color: #008080; text-decoration-color: #008080; font-weight: bold\">2</span><span style=\"color: #d4b702; text-decoration-color: #d4b702\"> ━━━━━━━━━━━━━━━━━━━━━━━━━━━━━━━━━━━━━━━━━━━━━━━━━━━━━━</span>\n",
       "</pre>\n"
      ],
      "text/plain": [
       "\u001b[38;2;212;183;2m━━━━━━━━━━━━━━━━━━━━━━━━━━━━━━━━━━━━━━━━━━━━━━━━━━━━━ \u001b[0m\u001b[1mStep \u001b[0m\u001b[1;36m2\u001b[0m\u001b[38;2;212;183;2m ━━━━━━━━━━━━━━━━━━━━━━━━━━━━━━━━━━━━━━━━━━━━━━━━━━━━━━\u001b[0m\n"
      ]
     },
     "metadata": {},
     "output_type": "display_data"
    },
    {
     "data": {
      "text/html": [
       "<pre style=\"white-space:pre;overflow-x:auto;line-height:normal;font-family:Menlo,'DejaVu Sans Mono',consolas,'Courier New',monospace\">╭─────────────────────────────────────────────────────────────────────────────────────────────────────────────────╮\n",
       "│ Calling tool: 'final_answer' with arguments: For a vaporwave-themed party, consider these recommendations:      │\n",
       "│                                                                                                                 │\n",
       "│ 1. **Playlists**:                                                                                               │\n",
       "│ - [Best Vaporwave Songs - Top 100](https://music.youtube.com/playlist?list=PLOf8GaHG4cD-FJoCe3AmOjslZ7p6mNDrO)  │\n",
       "│ - [Best of Vaporwave](https://open.spotify.com/playlist/0hVqgjsvz6iMMAmUrG9Jai)                                 │\n",
       "│ - [Vaporwave Songs: Best Vaporwave                                                                              │\n",
       "│ Music](https://www.youtube.com/playlist?list=PLgP_WFDJWjxTRPJtV4DV99lGB92rq5we_)                                │\n",
       "│                                                                                                                 │\n",
       "│ 2. **Essential Tracks**:                                                                                        │\n",
       "│ - Saint Pepsi - *Enjoy Yourself*, *Cherry Pepsi*, *Dream Supreme*                                               │\n",
       "│ - Macintosh Plus - *Boot*, *Lisa Frank 420/Modern Computing*                                                    │\n",
       "│ - Whitewoods - *Soul of the Machine*                                                                            │\n",
       "│ - THOUGHTS - *Midnight*                                                                                         │\n",
       "│ - Master Stryker - *Sony Boogie*                                                                                │\n",
       "│                                                                                                                 │\n",
       "│ 3. **Mixes**:                                                                                                   │\n",
       "│ - [Late Night Vaporwave Mix](https://m.youtube.com/watch?v=qbrVKT8tgGs) for a smooth vibe.                      │\n",
       "│                                                                                                                 │\n",
       "│ These tracks and playlists blend nostalgic 80s/90s samples with dreamy atmospheres, perfect for setting a       │\n",
       "│ retro, upbeat party mood!                                                                                       │\n",
       "╰─────────────────────────────────────────────────────────────────────────────────────────────────────────────────╯\n",
       "</pre>\n"
      ],
      "text/plain": [
       "╭─────────────────────────────────────────────────────────────────────────────────────────────────────────────────╮\n",
       "│ Calling tool: 'final_answer' with arguments: For a vaporwave-themed party, consider these recommendations:      │\n",
       "│                                                                                                                 │\n",
       "│ 1. **Playlists**:                                                                                               │\n",
       "│ - [Best Vaporwave Songs - Top 100](https://music.youtube.com/playlist?list=PLOf8GaHG4cD-FJoCe3AmOjslZ7p6mNDrO)  │\n",
       "│ - [Best of Vaporwave](https://open.spotify.com/playlist/0hVqgjsvz6iMMAmUrG9Jai)                                 │\n",
       "│ - [Vaporwave Songs: Best Vaporwave                                                                              │\n",
       "│ Music](https://www.youtube.com/playlist?list=PLgP_WFDJWjxTRPJtV4DV99lGB92rq5we_)                                │\n",
       "│                                                                                                                 │\n",
       "│ 2. **Essential Tracks**:                                                                                        │\n",
       "│ - Saint Pepsi - *Enjoy Yourself*, *Cherry Pepsi*, *Dream Supreme*                                               │\n",
       "│ - Macintosh Plus - *Boot*, *Lisa Frank 420/Modern Computing*                                                    │\n",
       "│ - Whitewoods - *Soul of the Machine*                                                                            │\n",
       "│ - THOUGHTS - *Midnight*                                                                                         │\n",
       "│ - Master Stryker - *Sony Boogie*                                                                                │\n",
       "│                                                                                                                 │\n",
       "│ 3. **Mixes**:                                                                                                   │\n",
       "│ - [Late Night Vaporwave Mix](https://m.youtube.com/watch?v=qbrVKT8tgGs) for a smooth vibe.                      │\n",
       "│                                                                                                                 │\n",
       "│ These tracks and playlists blend nostalgic 80s/90s samples with dreamy atmospheres, perfect for setting a       │\n",
       "│ retro, upbeat party mood!                                                                                       │\n",
       "╰─────────────────────────────────────────────────────────────────────────────────────────────────────────────────╯\n"
      ]
     },
     "metadata": {},
     "output_type": "display_data"
    },
    {
     "data": {
      "text/html": [
       "<pre style=\"white-space:pre;overflow-x:auto;line-height:normal;font-family:Menlo,'DejaVu Sans Mono',consolas,'Courier New',monospace\"><span style=\"color: #d4b702; text-decoration-color: #d4b702; font-weight: bold\">Final answer: For a vaporwave-themed party, consider these recommendations:</span>\n",
       "\n",
       "<span style=\"color: #d4b702; text-decoration-color: #d4b702; font-weight: bold\">1. **Playlists**: </span>\n",
       "<span style=\"color: #d4b702; text-decoration-color: #d4b702; font-weight: bold\">- [Best Vaporwave Songs - Top 100](https://music.youtube.com/playlist?list=PLOf8GaHG4cD-FJoCe3AmOjslZ7p6mNDrO)</span>\n",
       "<span style=\"color: #d4b702; text-decoration-color: #d4b702; font-weight: bold\">- [Best of Vaporwave](https://open.spotify.com/playlist/0hVqgjsvz6iMMAmUrG9Jai)</span>\n",
       "<span style=\"color: #d4b702; text-decoration-color: #d4b702; font-weight: bold\">- [Vaporwave Songs: Best Vaporwave Music](https://www.youtube.com/playlist?list=PLgP_WFDJWjxTRPJtV4DV99lGB92rq5we_)</span>\n",
       "\n",
       "<span style=\"color: #d4b702; text-decoration-color: #d4b702; font-weight: bold\">2. **Essential Tracks**: </span>\n",
       "<span style=\"color: #d4b702; text-decoration-color: #d4b702; font-weight: bold\">- Saint Pepsi - *Enjoy Yourself*, *Cherry Pepsi*, *Dream Supreme*</span>\n",
       "<span style=\"color: #d4b702; text-decoration-color: #d4b702; font-weight: bold\">- Macintosh Plus - *Boot*, *Lisa Frank 420/Modern Computing*</span>\n",
       "<span style=\"color: #d4b702; text-decoration-color: #d4b702; font-weight: bold\">- Whitewoods - *Soul of the Machine*</span>\n",
       "<span style=\"color: #d4b702; text-decoration-color: #d4b702; font-weight: bold\">- THOUGHTS - *Midnight*</span>\n",
       "<span style=\"color: #d4b702; text-decoration-color: #d4b702; font-weight: bold\">- Master Stryker - *Sony Boogie*</span>\n",
       "\n",
       "<span style=\"color: #d4b702; text-decoration-color: #d4b702; font-weight: bold\">3. **Mixes**: </span>\n",
       "<span style=\"color: #d4b702; text-decoration-color: #d4b702; font-weight: bold\">- [Late Night Vaporwave Mix](https://m.youtube.com/watch?v=qbrVKT8tgGs) for a smooth vibe.</span>\n",
       "\n",
       "<span style=\"color: #d4b702; text-decoration-color: #d4b702; font-weight: bold\">These tracks and playlists blend nostalgic 80s/90s samples with dreamy atmospheres, perfect for setting a retro, </span>\n",
       "<span style=\"color: #d4b702; text-decoration-color: #d4b702; font-weight: bold\">upbeat party mood!</span>\n",
       "</pre>\n"
      ],
      "text/plain": [
       "\u001b[1;38;2;212;183;2mFinal answer: For a vaporwave-themed party, consider these recommendations:\u001b[0m\n",
       "\n",
       "\u001b[1;38;2;212;183;2m1. **Playlists**: \u001b[0m\n",
       "\u001b[1;38;2;212;183;2m- [Best Vaporwave Songs - Top 100](https://music.youtube.com/playlist?list=PLOf8GaHG4cD-FJoCe3AmOjslZ7p6mNDrO)\u001b[0m\n",
       "\u001b[1;38;2;212;183;2m- [Best of Vaporwave](https://open.spotify.com/playlist/0hVqgjsvz6iMMAmUrG9Jai)\u001b[0m\n",
       "\u001b[1;38;2;212;183;2m- [Vaporwave Songs: Best Vaporwave Music](https://www.youtube.com/playlist?list=PLgP_WFDJWjxTRPJtV4DV99lGB92rq5we_)\u001b[0m\n",
       "\n",
       "\u001b[1;38;2;212;183;2m2. **Essential Tracks**: \u001b[0m\n",
       "\u001b[1;38;2;212;183;2m- Saint Pepsi - *Enjoy Yourself*, *Cherry Pepsi*, *Dream Supreme*\u001b[0m\n",
       "\u001b[1;38;2;212;183;2m- Macintosh Plus - *Boot*, *Lisa Frank 420/Modern Computing*\u001b[0m\n",
       "\u001b[1;38;2;212;183;2m- Whitewoods - *Soul of the Machine*\u001b[0m\n",
       "\u001b[1;38;2;212;183;2m- THOUGHTS - *Midnight*\u001b[0m\n",
       "\u001b[1;38;2;212;183;2m- Master Stryker - *Sony Boogie*\u001b[0m\n",
       "\n",
       "\u001b[1;38;2;212;183;2m3. **Mixes**: \u001b[0m\n",
       "\u001b[1;38;2;212;183;2m- [Late Night Vaporwave Mix](https://m.youtube.com/watch?v=qbrVKT8tgGs) for a smooth vibe.\u001b[0m\n",
       "\n",
       "\u001b[1;38;2;212;183;2mThese tracks and playlists blend nostalgic 80s/90s samples with dreamy atmospheres, perfect for setting a retro, \u001b[0m\n",
       "\u001b[1;38;2;212;183;2mupbeat party mood!\u001b[0m\n"
      ]
     },
     "metadata": {},
     "output_type": "display_data"
    },
    {
     "data": {
      "text/html": [
       "<pre style=\"white-space:pre;overflow-x:auto;line-height:normal;font-family:Menlo,'DejaVu Sans Mono',consolas,'Courier New',monospace\"><span style=\"color: #7f7f7f; text-decoration-color: #7f7f7f\">[Step 2: Duration 42.89 seconds| Input tokens: 3,423 | Output tokens: 1,174]</span>\n",
       "</pre>\n"
      ],
      "text/plain": [
       "\u001b[2m[Step 2: Duration 42.89 seconds| Input tokens: 3,423 | Output tokens: 1,174]\u001b[0m\n"
      ]
     },
     "metadata": {},
     "output_type": "display_data"
    },
    {
     "data": {
      "text/plain": [
       "'For a vaporwave-themed party, consider these recommendations:\\n\\n1. **Playlists**: \\n- [Best Vaporwave Songs - Top 100](https://music.youtube.com/playlist?list=PLOf8GaHG4cD-FJoCe3AmOjslZ7p6mNDrO)\\n- [Best of Vaporwave](https://open.spotify.com/playlist/0hVqgjsvz6iMMAmUrG9Jai)\\n- [Vaporwave Songs: Best Vaporwave Music](https://www.youtube.com/playlist?list=PLgP_WFDJWjxTRPJtV4DV99lGB92rq5we_)\\n\\n2. **Essential Tracks**: \\n- Saint Pepsi - *Enjoy Yourself*, *Cherry Pepsi*, *Dream Supreme*\\n- Macintosh Plus - *Boot*, *Lisa Frank 420/Modern Computing*\\n- Whitewoods - *Soul of the Machine*\\n- THOUGHTS - *Midnight*\\n- Master Stryker - *Sony Boogie*\\n\\n3. **Mixes**: \\n- [Late Night Vaporwave Mix](https://m.youtube.com/watch?v=qbrVKT8tgGs) for a smooth vibe.\\n\\nThese tracks and playlists blend nostalgic 80s/90s samples with dreamy atmospheres, perfect for setting a retro, upbeat party mood!'"
      ]
     },
     "execution_count": 4,
     "metadata": {},
     "output_type": "execute_result"
    }
   ],
   "source": [
    "# Run agent with prompt\n",
    "agent.run(\"Search for the best music recommendations for a vaporwave-themed party\")"
   ]
  },
  {
   "cell_type": "markdown",
   "id": "c1b603dd",
   "metadata": {},
   "source": [
    "\n",
    "When you examine the agent's trace, instead of seeing `Executing parsed code:`, you'll see something like:\n",
    "\n",
    "```text\n",
    "╭─────────────────────────────────────────────────────────────────────────────────────────────────────────────────╮\n",
    "│ Calling tool: 'web_search' with arguments: {'query': 'best vaporwave music recommendations for a party'}        │ \n",
    "╰─────────────────────────────────────────────────────────────────────────────────────────────────────────────────╯\n",
    "```  \n",
    "\n",
    "The agent generates a **structured tool call** that the system processes to produce the output, rather than directly executing code like a `CodeAgent`."
   ]
  },
  {
   "cell_type": "markdown",
   "id": "1a43682f",
   "metadata": {},
   "source": []
  }
 ],
 "metadata": {
  "kernelspec": {
   "display_name": "Python 3",
   "language": "python",
   "name": "python3"
  },
  "language_info": {
   "codemirror_mode": {
    "name": "ipython",
    "version": 3
   },
   "file_extension": ".py",
   "mimetype": "text/x-python",
   "name": "python",
   "nbconvert_exporter": "python",
   "pygments_lexer": "ipython3",
   "version": "3.12.1"
  }
 },
 "nbformat": 4,
 "nbformat_minor": 5
}
